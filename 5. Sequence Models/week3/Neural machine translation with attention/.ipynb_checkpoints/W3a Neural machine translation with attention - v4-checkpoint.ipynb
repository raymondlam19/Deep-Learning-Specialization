{
 "cells": [
  {
   "cell_type": "markdown",
   "metadata": {},
   "source": [
    "# Neural Machine Translation\n",
    "\n",
    "Welcome to your first programming assignment for this week! \n",
    "\n",
    "You will build a Neural Machine Translation (NMT) model to translate human readable dates (\"25th of June, 2009\") into machine readable dates (\"2009-06-25\"). You will do this using an attention model, one of the most sophisticated sequence to sequence models. \n",
    "\n",
    "This notebook was produced together with NVIDIA's Deep Learning Institute. \n",
    "\n",
    "Let's load all the packages you will need for this assignment."
   ]
  },
  {
   "cell_type": "code",
   "execution_count": 1,
   "metadata": {},
   "outputs": [
    {
     "name": "stderr",
     "output_type": "stream",
     "text": [
      "Using TensorFlow backend.\n"
     ]
    }
   ],
   "source": [
    "from keras.layers import Bidirectional, Concatenate, Permute, Dot, Input, LSTM, Multiply\n",
    "from keras.layers import RepeatVector, Dense, Activation, Lambda\n",
    "from keras.optimizers import Adam\n",
    "from keras.utils import to_categorical\n",
    "from keras.models import load_model, Model\n",
    "import keras.backend as K\n",
    "import numpy as np\n",
    "\n",
    "from faker import Faker\n",
    "import random\n",
    "from tqdm import tqdm\n",
    "from babel.dates import format_date\n",
    "from nmt_utils import *\n",
    "import matplotlib.pyplot as plt\n",
    "%matplotlib inline"
   ]
  },
  {
   "cell_type": "markdown",
   "metadata": {},
   "source": [
    "## 1 - Translating human readable dates into machine readable dates\n",
    "\n",
    "The model you will build here could be used to translate from one language to another, such as translating from English to Hindi. However, language translation requires massive datasets and usually takes days of training on GPUs. To give you a place to experiment with these models even without using massive datasets, we will instead use a simpler \"date translation\" task. \n",
    "\n",
    "The network will input a date written in a variety of possible formats (*e.g. \"the 29th of August 1958\", \"03/30/1968\", \"24 JUNE 1987\"*) and translate them into standardized, machine readable dates (*e.g. \"1958-08-29\", \"1968-03-30\", \"1987-06-24\"*). We will have the network learn to output dates in the common machine-readable format YYYY-MM-DD. \n",
    "\n",
    "\n",
    "\n",
    "<!-- \n",
    "Take a look at [nmt_utils.py](./nmt_utils.py) to see all the formatting. Count and figure out how the formats work, you will need this knowledge later. !--> "
   ]
  },
  {
   "cell_type": "markdown",
   "metadata": {},
   "source": [
    "### 1.1 - Dataset\n",
    "\n",
    "We will train the model on a dataset of 10000 human readable dates and their equivalent, standardized, machine readable dates. Let's run the following cells to load the dataset and print some examples. "
   ]
  },
  {
   "cell_type": "code",
   "execution_count": 2,
   "metadata": {},
   "outputs": [
    {
     "name": "stderr",
     "output_type": "stream",
     "text": [
      "100%|█████████████████████████████████████████████████████████████████████████| 10000/10000 [00:00<00:00, 22036.93it/s]\n"
     ]
    }
   ],
   "source": [
    "m = 10000\n",
    "dataset, human_vocab, machine_vocab, inv_machine_vocab = load_dataset(m)"
   ]
  },
  {
   "cell_type": "code",
   "execution_count": 3,
   "metadata": {},
   "outputs": [
    {
     "data": {
      "text/plain": [
       "[('friday june 16 1978', '1978-06-16'),\n",
       " ('friday june 18 1999', '1999-06-18'),\n",
       " ('8 oct 1987', '1987-10-08'),\n",
       " ('tuesday april 1 2008', '2008-04-01'),\n",
       " ('6 september 2012', '2012-09-06'),\n",
       " ('12 november 1981', '1981-11-12'),\n",
       " ('friday august 19 2011', '2011-08-19'),\n",
       " ('25 08 07', '2007-08-25'),\n",
       " ('18 september 1982', '1982-09-18'),\n",
       " ('friday february 25 1994', '1994-02-25'),\n",
       " ('friday march 19 1976', '1976-03-19'),\n",
       " ('20.02.06', '2006-02-20'),\n",
       " ('17.01.98', '1998-01-17'),\n",
       " ('october 24 2009', '2009-10-24'),\n",
       " ('17 apr 2004', '2004-04-17'),\n",
       " ('03.05.81', '1981-05-03'),\n",
       " ('31 jan 1980', '1980-01-31'),\n",
       " ('01 jan 1983', '1984-01-01'),\n",
       " ('5 dec 2018', '2018-12-05'),\n",
       " ('saturday april 19 1975', '1975-04-19')]"
      ]
     },
     "execution_count": 3,
     "metadata": {},
     "output_type": "execute_result"
    }
   ],
   "source": [
    "dataset[10:30]"
   ]
  },
  {
   "cell_type": "code",
   "execution_count": 4,
   "metadata": {},
   "outputs": [
    {
     "data": {
      "text/plain": [
       "{' ': 0,\n",
       " '.': 1,\n",
       " '/': 2,\n",
       " '0': 3,\n",
       " '1': 4,\n",
       " '2': 5,\n",
       " '3': 6,\n",
       " '4': 7,\n",
       " '5': 8,\n",
       " '6': 9,\n",
       " '7': 10,\n",
       " '8': 11,\n",
       " '9': 12,\n",
       " 'a': 13,\n",
       " 'b': 14,\n",
       " 'c': 15,\n",
       " 'd': 16,\n",
       " 'e': 17,\n",
       " 'f': 18,\n",
       " 'g': 19,\n",
       " 'h': 20,\n",
       " 'i': 21,\n",
       " 'j': 22,\n",
       " 'l': 23,\n",
       " 'm': 24,\n",
       " 'n': 25,\n",
       " 'o': 26,\n",
       " 'p': 27,\n",
       " 'r': 28,\n",
       " 's': 29,\n",
       " 't': 30,\n",
       " 'u': 31,\n",
       " 'v': 32,\n",
       " 'w': 33,\n",
       " 'y': 34,\n",
       " '<unk>': 35,\n",
       " '<pad>': 36}"
      ]
     },
     "execution_count": 4,
     "metadata": {},
     "output_type": "execute_result"
    }
   ],
   "source": [
    "human_vocab   #37"
   ]
  },
  {
   "cell_type": "code",
   "execution_count": 22,
   "metadata": {},
   "outputs": [
    {
     "data": {
      "text/plain": [
       "{'-': 0,\n",
       " '0': 1,\n",
       " '1': 2,\n",
       " '2': 3,\n",
       " '3': 4,\n",
       " '4': 5,\n",
       " '5': 6,\n",
       " '6': 7,\n",
       " '7': 8,\n",
       " '8': 9,\n",
       " '9': 10}"
      ]
     },
     "execution_count": 22,
     "metadata": {},
     "output_type": "execute_result"
    }
   ],
   "source": [
    "machine_vocab   #11"
   ]
  },
  {
   "cell_type": "markdown",
   "metadata": {},
   "source": [
    "You've loaded:\n",
    "- `dataset`: a list of tuples of (human readable date, machine readable date)\n",
    "- `human_vocab`: a python dictionary mapping all characters used in the human readable dates to an integer-valued index \n",
    "- `machine_vocab`: a python dictionary mapping all characters used in machine readable dates to an integer-valued index. These indices are not necessarily consistent with `human_vocab`. \n",
    "- `inv_machine_vocab`: the inverse dictionary of `machine_vocab`, mapping from indices back to characters. \n",
    "\n",
    "Let's preprocess the data and map the raw text data into the index values. We will also use Tx=30 (which we assume is the maximum length of the human readable date; if we get a longer input, we would have to truncate it) and Ty=10 (since \"YYYY-MM-DD\" is 10 characters long). "
   ]
  },
  {
   "cell_type": "code",
   "execution_count": 5,
   "metadata": {},
   "outputs": [
    {
     "name": "stdout",
     "output_type": "stream",
     "text": [
      "X.shape: (10000, 30)\n",
      "Y.shape: (10000, 10)\n",
      "Xoh.shape: (10000, 30, 37)\n",
      "Yoh.shape: (10000, 10, 11)\n"
     ]
    }
   ],
   "source": [
    "Tx = 30\n",
    "Ty = 10\n",
    "X, Y, Xoh, Yoh = preprocess_data(dataset, human_vocab, machine_vocab, Tx, Ty)\n",
    "\n",
    "print(\"X.shape:\", X.shape)\n",
    "print(\"Y.shape:\", Y.shape)\n",
    "print(\"Xoh.shape:\", Xoh.shape)\n",
    "print(\"Yoh.shape:\", Yoh.shape)"
   ]
  },
  {
   "cell_type": "markdown",
   "metadata": {},
   "source": [
    "You now have:\n",
    "- `X`: a processed version of the human readable dates in the training set, where each character is replaced by an index mapped to the character via `human_vocab`. Each date is further padded to $T_x$ values with a special character (< pad >). `X.shape = (m, Tx)`\n",
    "- `Y`: a processed version of the machine readable dates in the training set, where each character is replaced by the index it is mapped to in `machine_vocab`. You should have `Y.shape = (m, Ty)`. \n",
    "- `Xoh`: one-hot version of `X`, the \"1\" entry's index is mapped to the character thanks to `human_vocab`. `Xoh.shape = (m, Tx, len(human_vocab))`\n",
    "- `Yoh`: one-hot version of `Y`, the \"1\" entry's index is mapped to the character thanks to `machine_vocab`. `Yoh.shape = (m, Tx, len(machine_vocab))`. Here, `len(machine_vocab) = 11` since there are 11 characters ('-' as well as 0-9). \n"
   ]
  },
  {
   "cell_type": "code",
   "execution_count": 6,
   "metadata": {},
   "outputs": [
    {
     "data": {
      "text/plain": [
       "array([[12,  0, 24, ..., 36, 36, 36],\n",
       "       [ 4,  3,  1, ..., 36, 36, 36],\n",
       "       [ 7,  2,  5, ..., 36, 36, 36],\n",
       "       ...,\n",
       "       [22, 31, 23, ..., 36, 36, 36],\n",
       "       [18, 28, 21, ..., 36, 36, 36],\n",
       "       [ 5,  4,  0, ..., 36, 36, 36]])"
      ]
     },
     "execution_count": 6,
     "metadata": {},
     "output_type": "execute_result"
    }
   ],
   "source": [
    "X"
   ]
  },
  {
   "cell_type": "markdown",
   "metadata": {},
   "source": [
    "Lets also look at some examples of preprocessed training examples. Feel free to play with `index` in the cell below to navigate the dataset and see how source/target dates are preprocessed. "
   ]
  },
  {
   "cell_type": "code",
   "execution_count": 7,
   "metadata": {},
   "outputs": [
    {
     "name": "stdout",
     "output_type": "stream",
     "text": [
      "Source date: 9 may 1998\n",
      "Target date: 1998-05-09\n",
      "\n",
      "Source after preprocessing (indices): [12  0 24 13 34  0  4 12 12 11 36 36 36 36 36 36 36 36 36 36 36 36 36 36\n",
      " 36 36 36 36 36 36]\n",
      "Target after preprocessing (indices): [ 2 10 10  9  0  1  6  0  1 10]\n",
      "\n",
      "Source after preprocessing (one-hot): [[0. 0. 0. ... 0. 0. 0.]\n",
      " [1. 0. 0. ... 0. 0. 0.]\n",
      " [0. 0. 0. ... 0. 0. 0.]\n",
      " ...\n",
      " [0. 0. 0. ... 0. 0. 1.]\n",
      " [0. 0. 0. ... 0. 0. 1.]\n",
      " [0. 0. 0. ... 0. 0. 1.]]\n",
      "Target after preprocessing (one-hot): [[0. 0. 1. 0. 0. 0. 0. 0. 0. 0. 0.]\n",
      " [0. 0. 0. 0. 0. 0. 0. 0. 0. 0. 1.]\n",
      " [0. 0. 0. 0. 0. 0. 0. 0. 0. 0. 1.]\n",
      " [0. 0. 0. 0. 0. 0. 0. 0. 0. 1. 0.]\n",
      " [1. 0. 0. 0. 0. 0. 0. 0. 0. 0. 0.]\n",
      " [0. 1. 0. 0. 0. 0. 0. 0. 0. 0. 0.]\n",
      " [0. 0. 0. 0. 0. 0. 1. 0. 0. 0. 0.]\n",
      " [1. 0. 0. 0. 0. 0. 0. 0. 0. 0. 0.]\n",
      " [0. 1. 0. 0. 0. 0. 0. 0. 0. 0. 0.]\n",
      " [0. 0. 0. 0. 0. 0. 0. 0. 0. 0. 1.]]\n"
     ]
    }
   ],
   "source": [
    "index = 0\n",
    "print(\"Source date:\", dataset[index][0])\n",
    "print(\"Target date:\", dataset[index][1])\n",
    "print()\n",
    "print(\"Source after preprocessing (indices):\", X[index])\n",
    "print(\"Target after preprocessing (indices):\", Y[index])\n",
    "print()\n",
    "print(\"Source after preprocessing (one-hot):\", Xoh[index])\n",
    "print(\"Target after preprocessing (one-hot):\", Yoh[index])"
   ]
  },
  {
   "cell_type": "markdown",
   "metadata": {},
   "source": [
    "## 2 - Neural machine translation with attention\n",
    "\n",
    "If you had to translate a book's paragraph from French to English, you would not read the whole paragraph, then close the book and translate. Even during the translation process, you would read/re-read and focus on the parts of the French paragraph corresponding to the parts of the English you are writing down. \n",
    "\n",
    "The attention mechanism tells a Neural Machine Translation model where it should pay attention to at any step. \n",
    "\n",
    "\n",
    "### 2.1 - Attention mechanism\n",
    "\n",
    "In this part, you will implement the attention mechanism presented in the lecture videos. Here is a figure to remind you how the model works. The diagram on the left shows the attention model. The diagram on the right shows what one \"Attention\" step does to calculate the attention variables $\\alpha^{\\langle t, t' \\rangle}$, which are used to compute the context variable $context^{\\langle t \\rangle}$ for each timestep in the output ($t=1, \\ldots, T_y$). \n",
    "\n",
    "<table>\n",
    "<td> \n",
    "<img src=\"images/attn_model.png\" style=\"width:500;height:500px;\"> <br>\n",
    "</td> \n",
    "<td> \n",
    "<img src=\"images/attn_mechanism.png\" style=\"width:500;height:500px;\"> <br>\n",
    "</td> \n",
    "</table>\n",
    "<caption><center> **Figure 1**: Neural machine translation with attention</center></caption>\n"
   ]
  },
  {
   "cell_type": "markdown",
   "metadata": {},
   "source": [
    "\n",
    "Here are some properties of the model that you may notice: \n",
    "\n",
    "- There are two separate LSTMs in this model (see diagram on the left). Because the one at the bottom of the picture is a Bi-directional LSTM and comes *before* the attention mechanism, we will call it *pre-attention* Bi-LSTM. The LSTM at the top of the diagram comes *after* the attention mechanism, so we will call it the *post-attention* LSTM. The pre-attention Bi-LSTM goes through $T_x$ time steps; the post-attention LSTM goes through $T_y$ time steps. \n",
    "\n",
    "- The post-attention LSTM passes $s^{\\langle t \\rangle}, c^{\\langle t \\rangle}$ from one time step to the next. In the lecture videos, we were using only a basic RNN for the post-activation sequence model, so the state captured by the RNN output activations $s^{\\langle t\\rangle}$. But since we are using an LSTM here, the LSTM has both the output activation $s^{\\langle t\\rangle}$ and the hidden cell state $c^{\\langle t\\rangle}$. However, unlike previous text generation examples (such as Dinosaurus in week 1), in this model the post-activation LSTM at time $t$ does will not take the specific generated $y^{\\langle t-1 \\rangle}$ as input; it only takes $s^{\\langle t\\rangle}$ and $c^{\\langle t\\rangle}$ as input. We have designed the model this way, because (unlike language generation where adjacent characters are highly correlated) there isn't as strong a dependency between the previous character and the next character in a YYYY-MM-DD date. \n",
    "\n",
    "- We use $a^{\\langle t \\rangle} = [\\overrightarrow{a}^{\\langle t \\rangle}; \\overleftarrow{a}^{\\langle t \\rangle}]$ to represent the concatenation of the activations of both the forward-direction and backward-directions of the pre-attention Bi-LSTM. \n",
    "\n",
    "- The diagram on the right uses a `RepeatVector` node to copy $s^{\\langle t-1 \\rangle}$'s value $T_x$ times, and then `Concatenation` to concatenate $s^{\\langle t-1 \\rangle}$ and $a^{\\langle t \\rangle}$ to compute $e^{\\langle t, t'}$, which is then passed through a softmax to compute $\\alpha^{\\langle t, t' \\rangle}$. We'll explain how to use `RepeatVector` and `Concatenation` in Keras below. \n",
    "\n",
    "Lets implement this model. You will start by implementing two functions: `one_step_attention()` and `model()`.\n",
    "\n",
    "**1) `one_step_attention()`**: At step $t$, given all the hidden states of the Bi-LSTM ($[a^{<1>},a^{<2>}, ..., a^{<T_x>}]$) and the previous hidden state of the second LSTM ($s^{<t-1>}$), `one_step_attention()` will compute the attention weights ($[\\alpha^{<t,1>},\\alpha^{<t,2>}, ..., \\alpha^{<t,T_x>}]$) and output the context vector (see Figure  1 (right) for details):\n",
    "$$context^{<t>} = \\sum_{t' = 0}^{T_x} \\alpha^{<t,t'>}a^{<t'>}\\tag{1}$$ \n",
    "\n",
    "Note that we are denoting the attention in this notebook $context^{\\langle t \\rangle}$. In the lecture videos, the context was denoted $c^{\\langle t \\rangle}$, but here we are calling it $context^{\\langle t \\rangle}$ to avoid confusion with the (post-attention) LSTM's internal memory cell variable, which is sometimes also denoted $c^{\\langle t \\rangle}$. \n",
    "  \n",
    "**2) `model()`**: Implements the entire model. It first runs the input through a Bi-LSTM to get back $[a^{<1>},a^{<2>}, ..., a^{<T_x>}]$. Then, it calls `one_step_attention()` $T_y$ times (`for` loop). At each iteration of this loop, it gives the computed context vector $c^{<t>}$ to the second LSTM, and runs the output of the LSTM through a dense layer with softmax activation to generate a prediction $\\hat{y}^{<t>}$. \n",
    "\n",
    "\n",
    "\n",
    "**Exercise**: Implement `one_step_attention()`. The function `model()` will call the layers in `one_step_attention()` $T_y$ using a for-loop, and it is important that all $T_y$ copies have the same weights. I.e., it should not re-initiaiize the weights every time. In other words, all $T_y$ steps should have shared weights. Here's how you can implement layers with shareable weights in Keras:\n",
    "1. Define the layer objects (as global variables for examples).\n",
    "2. Call these objects when propagating the input.\n",
    "\n",
    "We have defined the layers you need as global variables. Please run the following cells to create them. Please check the Keras documentation to make sure you understand what these layers are: [RepeatVector()](https://keras.io/layers/core/#repeatvector), [Concatenate()](https://keras.io/layers/merge/#concatenate), [Dense()](https://keras.io/layers/core/#dense), [Activation()](https://keras.io/layers/core/#activation), [Dot()](https://keras.io/layers/merge/#dot)."
   ]
  },
  {
   "cell_type": "code",
   "execution_count": 8,
   "metadata": {},
   "outputs": [
    {
     "name": "stderr",
     "output_type": "stream",
     "text": [
      "WARNING: Logging before flag parsing goes to stderr.\n",
      "W0814 13:04:17.665607  9628 deprecation_wrapper.py:119] From D:\\Anaconda3\\envs\\tensorflow\\lib\\site-packages\\keras\\backend\\tensorflow_backend.py:74: The name tf.get_default_graph is deprecated. Please use tf.compat.v1.get_default_graph instead.\n",
      "\n"
     ]
    }
   ],
   "source": [
    "# Defined shared layers as global variables\n",
    "repeator = RepeatVector(Tx) #<Gema> Repeats the input Tx times.\n",
    "concatenator = Concatenate(axis=-1) #<Gema> Layer that concatenates a list of inputs. axis: Axis along which to concatenate, in this case, on the last axis.\n",
    "densor1 = Dense(10, activation = \"tanh\") #<Gema> Just your regular densely-connected NN layer.\n",
    "#<Gema> Dense implements the operation: output = activation(dot(input, kernel) + bias) where kernel is a weights matrix created by the layer\n",
    "densor2 = Dense(1, activation = \"relu\")\n",
    "activator = Activation(softmax, name='attention_weights') # We are using a custom softmax(axis = 1) loaded in this notebook\n",
    "#<Gema> Applies an activation function to an output.\n",
    "dotor = Dot(axes = 1) \n",
    "#<Gema> Layer that computes a dot product between samples in two tensors."
   ]
  },
  {
   "cell_type": "markdown",
   "metadata": {},
   "source": [
    "Now you can use these layers to implement `one_step_attention()`. In order to propagate a Keras tensor object X through one of these layers, use `layer(X)` (or `layer([X,Y])` if it requires multiple inputs.), e.g. `densor(X)` will propagate X through the `Dense(1)` layer defined above."
   ]
  },
  {
   "cell_type": "code",
   "execution_count": 9,
   "metadata": {},
   "outputs": [],
   "source": [
    "# GRADED FUNCTION: one_step_attention\n",
    "\n",
    "def one_step_attention(a, s_prev):\n",
    "    \"\"\"\n",
    "    Performs one step of attention: Outputs a context vector computed as a dot product of the attention weights\n",
    "    \"alphas\" and the hidden states \"a\" of the Bi-LSTM.\n",
    "    \n",
    "    Arguments:\n",
    "    a -- hidden state output of the Bi-LSTM, numpy-array of shape (m, Tx, 2*n_a)\n",
    "    s_prev -- previous hidden state of the (post-attention) LSTM, numpy-array of shape (m, n_s)\n",
    "    \n",
    "    Returns:\n",
    "    context -- context vector, input of the next (post-attetion) LSTM cell\n",
    "    \"\"\"\n",
    "    \n",
    "    ### START CODE HERE ###\n",
    "    # Use repeator to repeat s_prev to be of shape (m, Tx, n_s) so that you can concatenate it with all hidden states \"a\" (≈ 1 line)\n",
    "    s_prev = repeator(s_prev)           # (m, n_s) -> (m, Tx, n_s)\n",
    "    # Use concatenator to concatenate a and s_prev on the last axis (≈ 1 line)\n",
    "    concat = concatenator([a,s_prev])   # stack together\n",
    "    # Use densor1 to propagate concat through a small fully-connected neural network to compute the \"intermediate energies\" variable e. (≈1 lines)\n",
    "    e = densor1(concat)                 # Dense(10, activation = \"tanh\")\n",
    "    # Use densor2 to propagate e through a small fully-connected neural network to compute the \"energies\" variable energies. (≈1 lines)\n",
    "    energies = densor2(e)               # Dense(1, activation = \"relu\")\n",
    "    # Use \"activator\" on \"energies\" to compute the attention weights \"alphas\" (≈ 1 line)\n",
    "    alphas = activator(energies)        # softmax\n",
    "    # Use dotor together with \"alphas\" and \"a\" to compute the context vector to be given to the next (post-attention) LSTM-cell (≈ 1 line)\n",
    "    context = dotor([alphas,a])         # dot product\n",
    "    ### END CODE HERE ###\n",
    "    \n",
    "    return context"
   ]
  },
  {
   "cell_type": "markdown",
   "metadata": {},
   "source": [
    "You will be able to check the expected output of `one_step_attention()` after you've coded the `model()` function."
   ]
  },
  {
   "cell_type": "markdown",
   "metadata": {},
   "source": [
    "**Exercise**: Implement `model()` as explained in figure 2 and the text above. Again, we have defined global layers that will share weights to be used in `model()`."
   ]
  },
  {
   "cell_type": "code",
   "execution_count": 10,
   "metadata": {},
   "outputs": [
    {
     "name": "stdout",
     "output_type": "stream",
     "text": [
      "len(machine_vocab) 11\n"
     ]
    }
   ],
   "source": [
    "n_a = 32\n",
    "n_s = 64\n",
    "post_activation_LSTM_cell = LSTM(n_s, return_state = True)\n",
    "output_layer = Dense(len(machine_vocab), activation=softmax)\n",
    "print(\"len(machine_vocab)\", len(machine_vocab))"
   ]
  },
  {
   "cell_type": "markdown",
   "metadata": {},
   "source": [
    "Now you can use these layers $T_y$ times in a `for` loop to generate the outputs, and their parameters will not be reinitialized. You will have to carry out the following steps: \n",
    "\n",
    "1. Propagate the input into a [Bidirectional](https://keras.io/layers/wrappers/#bidirectional) [LSTM](https://keras.io/layers/recurrent/#lstm)\n",
    "2. Iterate for $t = 0, \\dots, T_y-1$: \n",
    "    1. Call `one_step_attention()` on $[\\alpha^{<t,1>},\\alpha^{<t,2>}, ..., \\alpha^{<t,T_x>}]$ and $s^{<t-1>}$ to get the context vector $context^{<t>}$.\n",
    "    2. Give $context^{<t>}$ to the post-attention LSTM cell. Remember pass in the previous hidden-state $s^{\\langle t-1\\rangle}$ and cell-states $c^{\\langle t-1\\rangle}$ of this LSTM using `initial_state= [previous hidden state, previous cell state]`. Get back the new hidden state $s^{<t>}$ and the new cell state $c^{<t>}$.\n",
    "    3. Apply a softmax layer to $s^{<t>}$, get the output. \n",
    "    4. Save the output by adding it to the list of outputs.\n",
    "\n",
    "3. Create your Keras model instance, it should have three inputs (\"inputs\", $s^{<0>}$ and $c^{<0>}$) and output the list of \"outputs\"."
   ]
  },
  {
   "cell_type": "code",
   "execution_count": 11,
   "metadata": {},
   "outputs": [],
   "source": [
    "# GRADED FUNCTION: model\n",
    "\n",
    "def model(Tx, Ty, n_a, n_s, human_vocab_size, machine_vocab_size):\n",
    "    \"\"\"\n",
    "    Arguments:\n",
    "    Tx -- length of the input sequence\n",
    "    Ty -- length of the output sequence\n",
    "    n_a -- hidden state size of the Bi-LSTM\n",
    "    n_s -- hidden state size of the post-attention LSTM\n",
    "    human_vocab_size -- size of the python dictionary \"human_vocab\"\n",
    "    machine_vocab_size -- size of the python dictionary \"machine_vocab\"\n",
    "\n",
    "    Returns:\n",
    "    model -- Keras model instance\n",
    "    \"\"\"\n",
    "    \n",
    "    # Define the inputs of your model with a shape (Tx,)\n",
    "    # Define s0 and c0, initial hidden state for the decoder LSTM of shape (n_s,)\n",
    "    X = Input(shape=(Tx, human_vocab_size))\n",
    "    s0 = Input(shape=(n_s,), name='s0')\n",
    "    c0 = Input(shape=(n_s,), name='c0')\n",
    "    s = s0\n",
    "    c = c0\n",
    "    \n",
    "    # Initialize empty list of outputs\n",
    "    outputs = []\n",
    "    \n",
    "    ### START CODE HERE ###\n",
    "    \n",
    "    # Step 1: Define your pre-attention Bi-LSTM. Remember to use return_sequences=True. (≈ 1 line)\n",
    "    a = Bidirectional(LSTM(n_a, return_sequences=True))(X)\n",
    "    \n",
    "    # Step 2: Iterate for Ty steps\n",
    "    for t in range(Ty):\n",
    "    \n",
    "        # Step 2.A: Perform one step of the attention mechanism to get back the context vector at step t (≈ 1 line)\n",
    "        context = one_step_attention(a, s)\n",
    "        \n",
    "        # Step 2.B: Apply the post-attention LSTM cell to the \"context\" vector.\n",
    "        # Don't forget to pass: initial_state = [hidden state, cell state] (≈ 1 line)\n",
    "        s, _, c = post_activation_LSTM_cell(context,initial_state=[s, c])\n",
    "        \n",
    "        # Step 2.C: Apply Dense layer to the hidden state output of the post-attention LSTM (≈ 1 line)\n",
    "        out = output_layer(s)\n",
    "        \n",
    "        # Step 2.D: Append \"out\" to the \"outputs\" list (≈ 1 line)\n",
    "        outputs.append(out)\n",
    "    \n",
    "    # Step 3: Create model instance taking three inputs and returning the list of outputs. (≈ 1 line)\n",
    "    model = Model(inputs=[X, s0, c0], outputs=outputs)\n",
    "    \n",
    "    ### END CODE HERE ###\n",
    "    \n",
    "    return model"
   ]
  },
  {
   "cell_type": "markdown",
   "metadata": {},
   "source": [
    "Run the following cell to create your model."
   ]
  },
  {
   "cell_type": "code",
   "execution_count": 12,
   "metadata": {},
   "outputs": [
    {
     "name": "stderr",
     "output_type": "stream",
     "text": [
      "W0814 13:04:23.045310  9628 deprecation_wrapper.py:119] From D:\\Anaconda3\\envs\\tensorflow\\lib\\site-packages\\keras\\backend\\tensorflow_backend.py:517: The name tf.placeholder is deprecated. Please use tf.compat.v1.placeholder instead.\n",
      "\n",
      "W0814 13:04:23.052292  9628 deprecation_wrapper.py:119] From D:\\Anaconda3\\envs\\tensorflow\\lib\\site-packages\\keras\\backend\\tensorflow_backend.py:4138: The name tf.random_uniform is deprecated. Please use tf.random.uniform instead.\n",
      "\n"
     ]
    }
   ],
   "source": [
    "model = model(Tx, Ty, n_a, n_s, len(human_vocab), len(machine_vocab))"
   ]
  },
  {
   "cell_type": "markdown",
   "metadata": {},
   "source": [
    "Let's get a summary of the model to check if it matches the expected output."
   ]
  },
  {
   "cell_type": "code",
   "execution_count": 13,
   "metadata": {},
   "outputs": [
    {
     "name": "stdout",
     "output_type": "stream",
     "text": [
      "__________________________________________________________________________________________________\n",
      "Layer (type)                    Output Shape         Param #     Connected to                     \n",
      "==================================================================================================\n",
      "input_1 (InputLayer)            (None, 30, 37)       0                                            \n",
      "__________________________________________________________________________________________________\n",
      "s0 (InputLayer)                 (None, 64)           0                                            \n",
      "__________________________________________________________________________________________________\n",
      "bidirectional_1 (Bidirectional) (None, 30, 64)       17920       input_1[0][0]                    \n",
      "__________________________________________________________________________________________________\n",
      "repeat_vector_1 (RepeatVector)  (None, 30, 64)       0           s0[0][0]                         \n",
      "                                                                 lstm_1[0][0]                     \n",
      "                                                                 lstm_1[1][0]                     \n",
      "                                                                 lstm_1[2][0]                     \n",
      "                                                                 lstm_1[3][0]                     \n",
      "                                                                 lstm_1[4][0]                     \n",
      "                                                                 lstm_1[5][0]                     \n",
      "                                                                 lstm_1[6][0]                     \n",
      "                                                                 lstm_1[7][0]                     \n",
      "                                                                 lstm_1[8][0]                     \n",
      "__________________________________________________________________________________________________\n",
      "concatenate_1 (Concatenate)     (None, 30, 128)      0           bidirectional_1[0][0]            \n",
      "                                                                 repeat_vector_1[0][0]            \n",
      "                                                                 bidirectional_1[0][0]            \n",
      "                                                                 repeat_vector_1[1][0]            \n",
      "                                                                 bidirectional_1[0][0]            \n",
      "                                                                 repeat_vector_1[2][0]            \n",
      "                                                                 bidirectional_1[0][0]            \n",
      "                                                                 repeat_vector_1[3][0]            \n",
      "                                                                 bidirectional_1[0][0]            \n",
      "                                                                 repeat_vector_1[4][0]            \n",
      "                                                                 bidirectional_1[0][0]            \n",
      "                                                                 repeat_vector_1[5][0]            \n",
      "                                                                 bidirectional_1[0][0]            \n",
      "                                                                 repeat_vector_1[6][0]            \n",
      "                                                                 bidirectional_1[0][0]            \n",
      "                                                                 repeat_vector_1[7][0]            \n",
      "                                                                 bidirectional_1[0][0]            \n",
      "                                                                 repeat_vector_1[8][0]            \n",
      "                                                                 bidirectional_1[0][0]            \n",
      "                                                                 repeat_vector_1[9][0]            \n",
      "__________________________________________________________________________________________________\n",
      "dense_1 (Dense)                 (None, 30, 10)       1290        concatenate_1[0][0]              \n",
      "                                                                 concatenate_1[1][0]              \n",
      "                                                                 concatenate_1[2][0]              \n",
      "                                                                 concatenate_1[3][0]              \n",
      "                                                                 concatenate_1[4][0]              \n",
      "                                                                 concatenate_1[5][0]              \n",
      "                                                                 concatenate_1[6][0]              \n",
      "                                                                 concatenate_1[7][0]              \n",
      "                                                                 concatenate_1[8][0]              \n",
      "                                                                 concatenate_1[9][0]              \n",
      "__________________________________________________________________________________________________\n",
      "dense_2 (Dense)                 (None, 30, 1)        11          dense_1[0][0]                    \n",
      "                                                                 dense_1[1][0]                    \n",
      "                                                                 dense_1[2][0]                    \n",
      "                                                                 dense_1[3][0]                    \n",
      "                                                                 dense_1[4][0]                    \n",
      "                                                                 dense_1[5][0]                    \n",
      "                                                                 dense_1[6][0]                    \n",
      "                                                                 dense_1[7][0]                    \n",
      "                                                                 dense_1[8][0]                    \n",
      "                                                                 dense_1[9][0]                    \n",
      "__________________________________________________________________________________________________\n",
      "attention_weights (Activation)  (None, 30, 1)        0           dense_2[0][0]                    \n",
      "                                                                 dense_2[1][0]                    \n",
      "                                                                 dense_2[2][0]                    \n",
      "                                                                 dense_2[3][0]                    \n",
      "                                                                 dense_2[4][0]                    \n",
      "                                                                 dense_2[5][0]                    \n",
      "                                                                 dense_2[6][0]                    \n",
      "                                                                 dense_2[7][0]                    \n",
      "                                                                 dense_2[8][0]                    \n",
      "                                                                 dense_2[9][0]                    \n",
      "__________________________________________________________________________________________________\n",
      "dot_1 (Dot)                     (None, 1, 64)        0           attention_weights[0][0]          \n",
      "                                                                 bidirectional_1[0][0]            \n",
      "                                                                 attention_weights[1][0]          \n",
      "                                                                 bidirectional_1[0][0]            \n",
      "                                                                 attention_weights[2][0]          \n",
      "                                                                 bidirectional_1[0][0]            \n",
      "                                                                 attention_weights[3][0]          \n",
      "                                                                 bidirectional_1[0][0]            \n"
     ]
    },
    {
     "name": "stdout",
     "output_type": "stream",
     "text": [
      "                                                                 attention_weights[4][0]          \n",
      "                                                                 bidirectional_1[0][0]            \n",
      "                                                                 attention_weights[5][0]          \n",
      "                                                                 bidirectional_1[0][0]            \n",
      "                                                                 attention_weights[6][0]          \n",
      "                                                                 bidirectional_1[0][0]            \n",
      "                                                                 attention_weights[7][0]          \n",
      "                                                                 bidirectional_1[0][0]            \n",
      "                                                                 attention_weights[8][0]          \n",
      "                                                                 bidirectional_1[0][0]            \n",
      "                                                                 attention_weights[9][0]          \n",
      "                                                                 bidirectional_1[0][0]            \n",
      "__________________________________________________________________________________________________\n",
      "c0 (InputLayer)                 (None, 64)           0                                            \n",
      "__________________________________________________________________________________________________\n",
      "lstm_1 (LSTM)                   [(None, 64), (None,  33024       dot_1[0][0]                      \n",
      "                                                                 s0[0][0]                         \n",
      "                                                                 c0[0][0]                         \n",
      "                                                                 dot_1[1][0]                      \n",
      "                                                                 lstm_1[0][0]                     \n",
      "                                                                 lstm_1[0][2]                     \n",
      "                                                                 dot_1[2][0]                      \n",
      "                                                                 lstm_1[1][0]                     \n",
      "                                                                 lstm_1[1][2]                     \n",
      "                                                                 dot_1[3][0]                      \n",
      "                                                                 lstm_1[2][0]                     \n",
      "                                                                 lstm_1[2][2]                     \n",
      "                                                                 dot_1[4][0]                      \n",
      "                                                                 lstm_1[3][0]                     \n",
      "                                                                 lstm_1[3][2]                     \n",
      "                                                                 dot_1[5][0]                      \n",
      "                                                                 lstm_1[4][0]                     \n",
      "                                                                 lstm_1[4][2]                     \n",
      "                                                                 dot_1[6][0]                      \n",
      "                                                                 lstm_1[5][0]                     \n",
      "                                                                 lstm_1[5][2]                     \n",
      "                                                                 dot_1[7][0]                      \n",
      "                                                                 lstm_1[6][0]                     \n",
      "                                                                 lstm_1[6][2]                     \n",
      "                                                                 dot_1[8][0]                      \n",
      "                                                                 lstm_1[7][0]                     \n",
      "                                                                 lstm_1[7][2]                     \n",
      "                                                                 dot_1[9][0]                      \n",
      "                                                                 lstm_1[8][0]                     \n",
      "                                                                 lstm_1[8][2]                     \n",
      "__________________________________________________________________________________________________\n",
      "dense_3 (Dense)                 (None, 11)           715         lstm_1[0][0]                     \n",
      "                                                                 lstm_1[1][0]                     \n",
      "                                                                 lstm_1[2][0]                     \n",
      "                                                                 lstm_1[3][0]                     \n",
      "                                                                 lstm_1[4][0]                     \n",
      "                                                                 lstm_1[5][0]                     \n",
      "                                                                 lstm_1[6][0]                     \n",
      "                                                                 lstm_1[7][0]                     \n",
      "                                                                 lstm_1[8][0]                     \n",
      "                                                                 lstm_1[9][0]                     \n",
      "==================================================================================================\n",
      "Total params: 52,960\n",
      "Trainable params: 52,960\n",
      "Non-trainable params: 0\n",
      "__________________________________________________________________________________________________\n"
     ]
    }
   ],
   "source": [
    "model.summary()"
   ]
  },
  {
   "cell_type": "markdown",
   "metadata": {},
   "source": [
    "**Expected Output**:\n",
    "\n",
    "Here is the summary you should see\n",
    "<table>\n",
    "    <tr>\n",
    "        <td>\n",
    "            **Total params:**\n",
    "        </td>\n",
    "        <td>\n",
    "         52,960\n",
    "        </td>\n",
    "    </tr>\n",
    "        <tr>\n",
    "        <td>\n",
    "            **Trainable params:**\n",
    "        </td>\n",
    "        <td>\n",
    "         52,960\n",
    "        </td>\n",
    "    </tr>\n",
    "            <tr>\n",
    "        <td>\n",
    "            **Non-trainable params:**\n",
    "        </td>\n",
    "        <td>\n",
    "         0\n",
    "        </td>\n",
    "    </tr>\n",
    "                    <tr>\n",
    "        <td>\n",
    "            **bidirectional_1's output shape **\n",
    "        </td>\n",
    "        <td>\n",
    "         (None, 30, 64)  \n",
    "        </td>\n",
    "    </tr>\n",
    "    <tr>\n",
    "        <td>\n",
    "            **repeat_vector_1's output shape **\n",
    "        </td>\n",
    "        <td>\n",
    "         (None, 30, 64) \n",
    "        </td>\n",
    "    </tr>\n",
    "                <tr>\n",
    "        <td>\n",
    "            **concatenate_1's output shape **\n",
    "        </td>\n",
    "        <td>\n",
    "         (None, 30, 128) \n",
    "        </td>\n",
    "    </tr>\n",
    "            <tr>\n",
    "        <td>\n",
    "            **attention_weights's output shape **\n",
    "        </td>\n",
    "        <td>\n",
    "         (None, 30, 1)  \n",
    "        </td>\n",
    "    </tr>\n",
    "        <tr>\n",
    "        <td>\n",
    "            **dot_1's output shape **\n",
    "        </td>\n",
    "        <td>\n",
    "         (None, 1, 64)\n",
    "        </td>\n",
    "    </tr>\n",
    "           <tr>\n",
    "        <td>\n",
    "            **dense_3's output shape **\n",
    "        </td>\n",
    "        <td>\n",
    "         (None, 11) \n",
    "        </td>\n",
    "    </tr>\n",
    "</table>\n"
   ]
  },
  {
   "cell_type": "markdown",
   "metadata": {},
   "source": [
    "As usual, after creating your model in Keras, you need to compile it and define what loss, optimizer and metrics your are want to use. Compile your model using `categorical_crossentropy` loss, a custom [Adam](https://keras.io/optimizers/#adam) [optimizer](https://keras.io/optimizers/#usage-of-optimizers) (`learning rate = 0.005`, $\\beta_1 = 0.9$, $\\beta_2 = 0.999$, `decay = 0.01`)  and `['accuracy']` metrics:"
   ]
  },
  {
   "cell_type": "code",
   "execution_count": 14,
   "metadata": {},
   "outputs": [
    {
     "name": "stderr",
     "output_type": "stream",
     "text": [
      "W0814 13:04:29.444689  9628 deprecation_wrapper.py:119] From D:\\Anaconda3\\envs\\tensorflow\\lib\\site-packages\\keras\\optimizers.py:790: The name tf.train.Optimizer is deprecated. Please use tf.compat.v1.train.Optimizer instead.\n",
      "\n",
      "W0814 13:04:29.474608  9628 deprecation_wrapper.py:119] From D:\\Anaconda3\\envs\\tensorflow\\lib\\site-packages\\keras\\backend\\tensorflow_backend.py:3295: The name tf.log is deprecated. Please use tf.math.log instead.\n",
      "\n"
     ]
    }
   ],
   "source": [
    "### START CODE HERE ### (≈2 lines)\n",
    "opt = Adam(lr=0.005, beta_1=0.9, beta_2=0.999, decay=0.01)\n",
    "model.compile(optimizer=opt, loss='categorical_crossentropy', metrics=['accuracy'])\n",
    "### END CODE HERE ###"
   ]
  },
  {
   "cell_type": "markdown",
   "metadata": {},
   "source": [
    "The last step is to define all your inputs and outputs to fit the model:\n",
    "- You already have X of shape $(m = 10000, T_x = 30)$ containing the training examples.\n",
    "- You need to create `s0` and `c0` to initialize your `post_activation_LSTM_cell` with 0s.\n",
    "- Given the `model()` you coded, you need the \"outputs\" to be a list of 11 elements of shape (m, T_y). So that: `outputs[i][0], ..., outputs[i][Ty]` represent the true labels (characters) corresponding to the $i^{th}$ training example (`X[i]`). More generally, `outputs[i][j]` is the true label of the $j^{th}$ character in the $i^{th}$ training example."
   ]
  },
  {
   "cell_type": "code",
   "execution_count": 15,
   "metadata": {},
   "outputs": [],
   "source": [
    "s0 = np.zeros((m, n_s))\n",
    "c0 = np.zeros((m, n_s))\n",
    "outputs = list(Yoh.swapaxes(0,1))    #(m, Tx, len(machine_vocab)) -> (Tx, m,len(machine_vocab))"
   ]
  },
  {
   "cell_type": "markdown",
   "metadata": {},
   "source": [
    "Let's now fit the model and run it for one epoch."
   ]
  },
  {
   "cell_type": "code",
   "execution_count": 16,
   "metadata": {},
   "outputs": [
    {
     "name": "stderr",
     "output_type": "stream",
     "text": [
      "W0814 13:04:34.865780  9628 deprecation.py:323] From D:\\Anaconda3\\envs\\tensorflow\\lib\\site-packages\\tensorflow\\python\\ops\\math_grad.py:1250: add_dispatch_support.<locals>.wrapper (from tensorflow.python.ops.array_ops) is deprecated and will be removed in a future version.\n",
      "Instructions for updating:\n",
      "Use tf.where in 2.0, which has the same broadcast rule as np.where\n",
      "W0814 13:04:46.346814  9628 deprecation_wrapper.py:119] From D:\\Anaconda3\\envs\\tensorflow\\lib\\site-packages\\keras\\backend\\tensorflow_backend.py:986: The name tf.assign_add is deprecated. Please use tf.compat.v1.assign_add instead.\n",
      "\n"
     ]
    },
    {
     "name": "stdout",
     "output_type": "stream",
     "text": [
      "Epoch 1/1\n"
     ]
    },
    {
     "name": "stdout",
     "output_type": "stream",
     "text": [
      " 2900/10000 [=======>......................] - ETA: 18:26 - loss: 23.8725 - dense_3_loss: 2.4009 - dense_3_acc: 0.1600 - dense_3_acc_1: 0.0000e+00 - dense_3_acc_2: 0.0200 - dense_3_acc_3: 0.0200 - dense_3_acc_4: 0.7900 - dense_3_acc_5: 0.0400 - dense_3_acc_6: 0.0200 - dense_3_acc_7: 0.7700 - dense_3_acc_8: 0.1100 - dense_3_acc_9: 0.06 - ETA: 9:13 - loss: 23.6490 - dense_3_loss: 2.4133 - dense_3_acc: 0.0800 - dense_3_acc_1: 0.0000e+00 - dense_3_acc_2: 0.0100 - dense_3_acc_3: 0.0100 - dense_3_acc_4: 0.8950 - dense_3_acc_5: 0.0200 - dense_3_acc_6: 0.0100 - dense_3_acc_7: 0.8850 - dense_3_acc_8: 0.0550 - dense_3_acc_9: 0.0300 - ETA: 6:08 - loss: 23.3901 - dense_3_loss: 2.4414 - dense_3_acc: 0.0533 - dense_3_acc_1: 0.0000e+00 - dense_3_acc_2: 0.0067 - dense_3_acc_3: 0.0067 - dense_3_acc_4: 0.9300 - dense_3_acc_5: 0.0133 - dense_3_acc_6: 0.0067 - dense_3_acc_7: 0.9233 - dense_3_acc_8: 0.0367 - dense_3_acc_9: 0.020 - ETA: 4:35 - loss: 23.1268 - dense_3_loss: 2.5085 - dense_3_acc: 0.0400 - dense_3_acc_1: 0.0000e+00 - dense_3_acc_2: 0.0050 - dense_3_acc_3: 0.0050 - dense_3_acc_4: 0.9475 - dense_3_acc_5: 0.0100 - dense_3_acc_6: 0.0050 - dense_3_acc_7: 0.9425 - dense_3_acc_8: 0.0275 - dense_3_acc_9: 0.015 - ETA: 3:40 - loss: 22.9101 - dense_3_loss: 2.6213 - dense_3_acc: 0.0320 - dense_3_acc_1: 0.0000e+00 - dense_3_acc_2: 0.0040 - dense_3_acc_3: 0.0040 - dense_3_acc_4: 0.9580 - dense_3_acc_5: 0.0080 - dense_3_acc_6: 0.0040 - dense_3_acc_7: 0.9540 - dense_3_acc_8: 0.0220 - dense_3_acc_9: 0.012 - ETA: 3:03 - loss: 22.7563 - dense_3_loss: 2.7172 - dense_3_acc: 0.0267 - dense_3_acc_1: 0.0000e+00 - dense_3_acc_2: 0.0033 - dense_3_acc_3: 0.0033 - dense_3_acc_4: 0.9650 - dense_3_acc_5: 0.0067 - dense_3_acc_6: 0.0033 - dense_3_acc_7: 0.9617 - dense_3_acc_8: 0.0183 - dense_3_acc_9: 0.010 - ETA: 2:36 - loss: 22.6032 - dense_3_loss: 2.7411 - dense_3_acc: 0.0229 - dense_3_acc_1: 0.0000e+00 - dense_3_acc_2: 0.0029 - dense_3_acc_3: 0.0057 - dense_3_acc_4: 0.8271 - dense_3_acc_5: 0.1143 - dense_3_acc_6: 0.0157 - dense_3_acc_7: 0.8243 - dense_3_acc_8: 0.0557 - dense_3_acc_9: 0.028 - ETA: 2:16 - loss: 22.4840 - dense_3_loss: 2.7703 - dense_3_acc: 0.0500 - dense_3_acc_1: 0.0000e+00 - dense_3_acc_2: 0.0275 - dense_3_acc_3: 0.0187 - dense_3_acc_4: 0.7238 - dense_3_acc_5: 0.1887 - dense_3_acc_6: 0.0300 - dense_3_acc_7: 0.7212 - dense_3_acc_8: 0.0925 - dense_3_acc_9: 0.033 - ETA: 2:01 - loss: 22.3854 - dense_3_loss: 2.7704 - dense_3_acc: 0.1189 - dense_3_acc_1: 0.0000e+00 - dense_3_acc_2: 0.0289 - dense_3_acc_3: 0.0256 - dense_3_acc_4: 0.6433 - dense_3_acc_5: 0.2478 - dense_3_acc_6: 0.0367 - dense_3_acc_7: 0.6411 - dense_3_acc_8: 0.1144 - dense_3_acc_9: 0.040 - ETA: 1:48 - loss: 22.2934 - dense_3_loss: 2.7613 - dense_3_acc: 0.1700 - dense_3_acc_1: 0.0000e+00 - dense_3_acc_2: 0.0260 - dense_3_acc_3: 0.0230 - dense_3_acc_4: 0.6790 - dense_3_acc_5: 0.2230 - dense_3_acc_6: 0.0330 - dense_3_acc_7: 0.6770 - dense_3_acc_8: 0.1030 - dense_3_acc_9: 0.036 - ETA: 1:38 - loss: 22.2065 - dense_3_loss: 2.7717 - dense_3_acc: 0.2082 - dense_3_acc_1: 0.0000e+00 - dense_3_acc_2: 0.0236 - dense_3_acc_3: 0.0209 - dense_3_acc_4: 0.7082 - dense_3_acc_5: 0.2027 - dense_3_acc_6: 0.0300 - dense_3_acc_7: 0.7064 - dense_3_acc_8: 0.0936 - dense_3_acc_9: 0.032 - ETA: 1:30 - loss: 22.1488 - dense_3_loss: 2.7718 - dense_3_acc: 0.2000 - dense_3_acc_1: 0.0000e+00 - dense_3_acc_2: 0.0217 - dense_3_acc_3: 0.0192 - dense_3_acc_4: 0.7325 - dense_3_acc_5: 0.1858 - dense_3_acc_6: 0.0275 - dense_3_acc_7: 0.7308 - dense_3_acc_8: 0.0858 - dense_3_acc_9: 0.030 - ETA: 1:23 - loss: 22.0920 - dense_3_loss: 2.7778 - dense_3_acc: 0.1846 - dense_3_acc_1: 0.0000e+00 - dense_3_acc_2: 0.0200 - dense_3_acc_3: 0.0177 - dense_3_acc_4: 0.7531 - dense_3_acc_5: 0.1715 - dense_3_acc_6: 0.0254 - dense_3_acc_7: 0.7515 - dense_3_acc_8: 0.0792 - dense_3_acc_9: 0.027 - ETA: 1:16 - loss: 22.0286 - dense_3_loss: 2.7848 - dense_3_acc: 0.1714 - dense_3_acc_1: 0.0000e+00 - dense_3_acc_2: 0.0186 - dense_3_acc_3: 0.0164 - dense_3_acc_4: 0.7707 - dense_3_acc_5: 0.1593 - dense_3_acc_6: 0.0236 - dense_3_acc_7: 0.7693 - dense_3_acc_8: 0.0736 - dense_3_acc_9: 0.025 - ETA: 1:11 - loss: 21.9718 - dense_3_loss: 2.7975 - dense_3_acc: 0.1867 - dense_3_acc_1: 0.0000e+00 - dense_3_acc_2: 0.0173 - dense_3_acc_3: 0.0153 - dense_3_acc_4: 0.7860 - dense_3_acc_5: 0.1487 - dense_3_acc_6: 0.0220 - dense_3_acc_7: 0.7847 - dense_3_acc_8: 0.0687 - dense_3_acc_9: 0.024 - ETA: 1:06 - loss: 21.9048 - dense_3_loss: 2.7987 - dense_3_acc: 0.2150 - dense_3_acc_1: 0.0000e+00 - dense_3_acc_2: 0.0163 - dense_3_acc_3: 0.0144 - dense_3_acc_4: 0.7994 - dense_3_acc_5: 0.1394 - dense_3_acc_6: 0.0206 - dense_3_acc_7: 0.7981 - dense_3_acc_8: 0.0644 - dense_3_acc_9: 0.022 - ETA: 1:02 - loss: 21.8401 - dense_3_loss: 2.8013 - dense_3_acc: 0.2088 - dense_3_acc_1: 0.0059 - dense_3_acc_2: 0.0153 - dense_3_acc_3: 0.0135 - dense_3_acc_4: 0.8112 - dense_3_acc_5: 0.1312 - dense_3_acc_6: 0.0194 - dense_3_acc_7: 0.8100 - dense_3_acc_8: 0.0606 - dense_3_acc_9: 0.0212    - ETA: 58s - loss: 21.7814 - dense_3_loss: 2.8032 - dense_3_acc: 0.1972 - dense_3_acc_1: 0.0250 - dense_3_acc_2: 0.0239 - dense_3_acc_3: 0.0222 - dense_3_acc_4: 0.7944 - dense_3_acc_5: 0.1378 - dense_3_acc_6: 0.0206 - dense_3_acc_7: 0.8011 - dense_3_acc_8: 0.0639 - dense_3_acc_9: 0.022 - ETA: 55s - loss: 21.7371 - dense_3_loss: 2.8014 - dense_3_acc: 0.1868 - dense_3_acc_1: 0.0463 - dense_3_acc_2: 0.0326 - dense_3_acc_3: 0.0258 - dense_3_acc_4: 0.7526 - dense_3_acc_5: 0.1705 - dense_3_acc_6: 0.0226 - dense_3_acc_7: 0.7589 - dense_3_acc_8: 0.0726 - dense_3_acc_9: 0.02 - ETA: 52s - loss: 21.6976 - dense_3_loss: 2.7974 - dense_3_acc: 0.1775 - dense_3_acc_1: 0.0750 - dense_3_acc_2: 0.0395 - dense_3_acc_3: 0.0305 - dense_3_acc_4: 0.7150 - dense_3_acc_5: 0.2035 - dense_3_acc_6: 0.0225 - dense_3_acc_7: 0.7210 - dense_3_acc_8: 0.0800 - dense_3_acc_9: 0.03 - ETA: 49s - loss: 21.6537 - dense_3_loss: 2.7941 - dense_3_acc: 0.1690 - dense_3_acc_1: 0.1067 - dense_3_acc_2: 0.0438 - dense_3_acc_3: 0.0329 - dense_3_acc_4: 0.7195 - dense_3_acc_5: 0.1938 - dense_3_acc_6: 0.0214 - dense_3_acc_7: 0.7343 - dense_3_acc_8: 0.0762 - dense_3_acc_9: 0.03 - ETA: 47s - loss: 21.5914 - dense_3_loss: 2.7890 - dense_3_acc: 0.1614 - dense_3_acc_1: 0.1286 - dense_3_acc_2: 0.0582 - dense_3_acc_3: 0.0314 - dense_3_acc_4: 0.7323 - dense_3_acc_5: 0.1850 - dense_3_acc_6: 0.0205 - dense_3_acc_7: 0.7464 - dense_3_acc_8: 0.0727 - dense_3_acc_9: 0.02 - ETA: 45s - loss: 21.5406 - dense_3_loss: 2.7865 - dense_3_acc: 0.1543 - dense_3_acc_1: 0.1517 - dense_3_acc_2: 0.0639 - dense_3_acc_3: 0.0300 - dense_3_acc_4: 0.7439 - dense_3_acc_5: 0.1770 - dense_3_acc_6: 0.0196 - dense_3_acc_7: 0.7574 - dense_3_acc_8: 0.0696 - dense_3_acc_9: 0.02 - ETA: 42s - loss: 21.4857 - dense_3_loss: 2.7833 - dense_3_acc: 0.1479 - dense_3_acc_1: 0.1717 - dense_3_acc_2: 0.0729 - dense_3_acc_3: 0.0287 - dense_3_acc_4: 0.7546 - dense_3_acc_5: 0.1696 - dense_3_acc_6: 0.0187 - dense_3_acc_7: 0.7675 - dense_3_acc_8: 0.0667 - dense_3_acc_9: 0.02 - ETA: 40s - loss: 21.4432 - dense_3_loss: 2.7837 - dense_3_acc: 0.1420 - dense_3_acc_1: 0.1900 - dense_3_acc_2: 0.0780 - dense_3_acc_3: 0.0276 - dense_3_acc_4: 0.7644 - dense_3_acc_5: 0.1628 - dense_3_acc_6: 0.0180 - dense_3_acc_7: 0.7768 - dense_3_acc_8: 0.0640 - dense_3_acc_9: 0.02 - ETA: 39s - loss: 21.3869 - dense_3_loss: 2.7799 - dense_3_acc: 0.1365 - dense_3_acc_1: 0.2085 - dense_3_acc_2: 0.0846 - dense_3_acc_3: 0.0265 - dense_3_acc_4: 0.7735 - dense_3_acc_5: 0.1565 - dense_3_acc_6: 0.0173 - dense_3_acc_7: 0.7854 - dense_3_acc_8: 0.0615 - dense_3_acc_9: 0.02 - ETA: 37s - loss: 21.3378 - dense_3_loss: 2.7754 - dense_3_acc: 0.1315 - dense_3_acc_1: 0.2219 - dense_3_acc_2: 0.0900 - dense_3_acc_3: 0.0278 - dense_3_acc_4: 0.7819 - dense_3_acc_5: 0.1507 - dense_3_acc_6: 0.0167 - dense_3_acc_7: 0.7933 - dense_3_acc_8: 0.0593 - dense_3_acc_9: 0.02 - ETA: 35s - loss: 21.2904 - dense_3_loss: 2.7717 - dense_3_acc: 0.1268 - dense_3_acc_1: 0.2368 - dense_3_acc_2: 0.0950 - dense_3_acc_3: 0.0293 - dense_3_acc_4: 0.7896 - dense_3_acc_5: 0.1454 - dense_3_acc_6: 0.0161 - dense_3_acc_7: 0.8007 - dense_3_acc_8: 0.0571 - dense_3_acc_9: 0.02 - ETA: 34s - loss: 21.2401 - dense_3_loss: 2.7655 - dense_3_acc: 0.1224 - dense_3_acc_1: 0.2510 - dense_3_acc_2: 0.1014 - dense_3_acc_3: 0.0300 - dense_3_acc_4: 0.7955 - dense_3_acc_5: 0.1403 - dense_3_acc_6: 0.0155 - dense_3_acc_7: 0.8076 - dense_3_acc_8: 0.0552 - dense_3_acc_9: 0.0276\b\b\b\b\b\b\b\b\b\b\b\b\b\b\b\b\b\b\b\b\b\b\b\b\b\b\b\b\b\b\b\b\b\b\b\b\b\b\b\b\b\b\b\b\b\b\b\b\b\b\b\b\b\b\b\b\b\b\b\b\b\b\b\b\b\b\b\b\b\b\b\b\b\b\b\b\b\b\b\b\b\b\b\b\b\b\b\b\b\b\b\b\b\b\b\b\b\b\b\b\b\b\b\b\b\b\b\b\b\b\b\b\b\b\b\b\b\b\b\b\b\b\b\b\b\b\b\b\b\b\b\b\b\b\b\b\b\b\b\b\b\b\b\b\b\b\b\b\b\b\b\b\b\b\b\b\b\b\b\b\b\b\b\b\b\b\b\b\b\b\b\b\b\b\b\b\b\b\b\b\b\b\b\b\b\b\b\b\b\b\b\b\b\b\b\b\b\b\b\b\b\b\b\b\b\b\b\b\b\b\b\b\b\b\b\b\b\b\b\b\b\b\b\b\b\b\b\b\b\b\b\b\b\b\b\b\b\b\b\b\b\b\b\b\b\b\b\b\b\b\b\b\b\b\b\b\b\b\b\b\b\b\b\b\b\b\b\b\b\b\b\b\b\b\b\b\b\b\b\b\b\b\b\b\b\b\b\b\b\b\b\b\b\b\b\b\b\b\b\b\b\b\b\b\b\b\b\b\b\b\b\b\b\b\b\b\b\b\b\b\b\b\b\b\b\b\b\b\b\b\b\b"
     ]
    },
    {
     "name": "stdout",
     "output_type": "stream",
     "text": [
      " 5800/10000 [================>.............] - ETA: 33s - loss: 21.2043 - dense_3_loss: 2.7662 - dense_3_acc: 0.1183 - dense_3_acc_1: 0.2613 - dense_3_acc_2: 0.1047 - dense_3_acc_3: 0.0323 - dense_3_acc_4: 0.8023 - dense_3_acc_5: 0.1357 - dense_3_acc_6: 0.0150 - dense_3_acc_7: 0.8140 - dense_3_acc_8: 0.0673 - dense_3_acc_9: 0.03 - ETA: 31s - loss: 21.1635 - dense_3_loss: 2.7620 - dense_3_acc: 0.1145 - dense_3_acc_1: 0.2687 - dense_3_acc_2: 0.1087 - dense_3_acc_3: 0.0345 - dense_3_acc_4: 0.8087 - dense_3_acc_5: 0.1313 - dense_3_acc_6: 0.0145 - dense_3_acc_7: 0.8200 - dense_3_acc_8: 0.0677 - dense_3_acc_9: 0.03 - ETA: 30s - loss: 21.1168 - dense_3_loss: 2.7598 - dense_3_acc: 0.1109 - dense_3_acc_1: 0.2794 - dense_3_acc_2: 0.1113 - dense_3_acc_3: 0.0350 - dense_3_acc_4: 0.8147 - dense_3_acc_5: 0.1272 - dense_3_acc_6: 0.0141 - dense_3_acc_7: 0.8256 - dense_3_acc_8: 0.0656 - dense_3_acc_9: 0.03 - ETA: 29s - loss: 21.0775 - dense_3_loss: 2.7580 - dense_3_acc: 0.1076 - dense_3_acc_1: 0.2873 - dense_3_acc_2: 0.1179 - dense_3_acc_3: 0.0376 - dense_3_acc_4: 0.8203 - dense_3_acc_5: 0.1233 - dense_3_acc_6: 0.0136 - dense_3_acc_7: 0.8309 - dense_3_acc_8: 0.0636 - dense_3_acc_9: 0.03 - ETA: 28s - loss: 21.0304 - dense_3_loss: 2.7524 - dense_3_acc: 0.1044 - dense_3_acc_1: 0.2974 - dense_3_acc_2: 0.1212 - dense_3_acc_3: 0.0391 - dense_3_acc_4: 0.8256 - dense_3_acc_5: 0.1197 - dense_3_acc_6: 0.0132 - dense_3_acc_7: 0.8359 - dense_3_acc_8: 0.0650 - dense_3_acc_9: 0.03 - ETA: 27s - loss: 20.9887 - dense_3_loss: 2.7516 - dense_3_acc: 0.1014 - dense_3_acc_1: 0.3046 - dense_3_acc_2: 0.1254 - dense_3_acc_3: 0.0423 - dense_3_acc_4: 0.8306 - dense_3_acc_5: 0.1163 - dense_3_acc_6: 0.0129 - dense_3_acc_7: 0.8380 - dense_3_acc_8: 0.0757 - dense_3_acc_9: 0.03 - ETA: 26s - loss: 20.9418 - dense_3_loss: 2.7522 - dense_3_acc: 0.0986 - dense_3_acc_1: 0.3122 - dense_3_acc_2: 0.1311 - dense_3_acc_3: 0.0442 - dense_3_acc_4: 0.8353 - dense_3_acc_5: 0.1131 - dense_3_acc_6: 0.0125 - dense_3_acc_7: 0.8425 - dense_3_acc_8: 0.0764 - dense_3_acc_9: 0.03 - ETA: 25s - loss: 20.8939 - dense_3_loss: 2.7518 - dense_3_acc: 0.1000 - dense_3_acc_1: 0.3214 - dense_3_acc_2: 0.1362 - dense_3_acc_3: 0.0451 - dense_3_acc_4: 0.8397 - dense_3_acc_5: 0.1100 - dense_3_acc_6: 0.0122 - dense_3_acc_7: 0.8468 - dense_3_acc_8: 0.0743 - dense_3_acc_9: 0.03 - ETA: 24s - loss: 20.8504 - dense_3_loss: 2.7532 - dense_3_acc: 0.1158 - dense_3_acc_1: 0.3313 - dense_3_acc_2: 0.1411 - dense_3_acc_3: 0.0461 - dense_3_acc_4: 0.8439 - dense_3_acc_5: 0.1071 - dense_3_acc_6: 0.0118 - dense_3_acc_7: 0.8508 - dense_3_acc_8: 0.0734 - dense_3_acc_9: 0.03 - ETA: 23s - loss: 20.8007 - dense_3_loss: 2.7504 - dense_3_acc: 0.1303 - dense_3_acc_1: 0.3403 - dense_3_acc_2: 0.1423 - dense_3_acc_3: 0.0485 - dense_3_acc_4: 0.8479 - dense_3_acc_5: 0.1044 - dense_3_acc_6: 0.0115 - dense_3_acc_7: 0.8528 - dense_3_acc_8: 0.0818 - dense_3_acc_9: 0.04 - ETA: 22s - loss: 20.7573 - dense_3_loss: 2.7490 - dense_3_acc: 0.1412 - dense_3_acc_1: 0.3460 - dense_3_acc_2: 0.1483 - dense_3_acc_3: 0.0498 - dense_3_acc_4: 0.8517 - dense_3_acc_5: 0.1017 - dense_3_acc_6: 0.0112 - dense_3_acc_7: 0.8562 - dense_3_acc_8: 0.0880 - dense_3_acc_9: 0.04 - ETA: 22s - loss: 20.7146 - dense_3_loss: 2.7484 - dense_3_acc: 0.1517 - dense_3_acc_1: 0.3515 - dense_3_acc_2: 0.1546 - dense_3_acc_3: 0.0498 - dense_3_acc_4: 0.8554 - dense_3_acc_5: 0.0993 - dense_3_acc_6: 0.0110 - dense_3_acc_7: 0.8598 - dense_3_acc_8: 0.0941 - dense_3_acc_9: 0.04 - ETA: 21s - loss: 20.6609 - dense_3_loss: 2.7442 - dense_3_acc: 0.1624 - dense_3_acc_1: 0.3574 - dense_3_acc_2: 0.1590 - dense_3_acc_3: 0.0500 - dense_3_acc_4: 0.8588 - dense_3_acc_5: 0.0969 - dense_3_acc_6: 0.0107 - dense_3_acc_7: 0.8631 - dense_3_acc_8: 0.0976 - dense_3_acc_9: 0.04 - ETA: 20s - loss: 20.6144 - dense_3_loss: 2.7407 - dense_3_acc: 0.1726 - dense_3_acc_1: 0.3630 - dense_3_acc_2: 0.1623 - dense_3_acc_3: 0.0502 - dense_3_acc_4: 0.8621 - dense_3_acc_5: 0.0947 - dense_3_acc_6: 0.0105 - dense_3_acc_7: 0.8642 - dense_3_acc_8: 0.1065 - dense_3_acc_9: 0.05 - ETA: 20s - loss: 20.5662 - dense_3_loss: 2.7388 - dense_3_acc: 0.1823 - dense_3_acc_1: 0.3684 - dense_3_acc_2: 0.1664 - dense_3_acc_3: 0.0518 - dense_3_acc_4: 0.8652 - dense_3_acc_5: 0.0925 - dense_3_acc_6: 0.0102 - dense_3_acc_7: 0.8616 - dense_3_acc_8: 0.1127 - dense_3_acc_9: 0.05 - ETA: 19s - loss: 20.5152 - dense_3_loss: 2.7374 - dense_3_acc: 0.1927 - dense_3_acc_1: 0.3747 - dense_3_acc_2: 0.1696 - dense_3_acc_3: 0.0527 - dense_3_acc_4: 0.8682 - dense_3_acc_5: 0.0904 - dense_3_acc_6: 0.0100 - dense_3_acc_7: 0.8631 - dense_3_acc_8: 0.1151 - dense_3_acc_9: 0.05 - ETA: 18s - loss: 20.4685 - dense_3_loss: 2.7383 - dense_3_acc: 0.2024 - dense_3_acc_1: 0.3807 - dense_3_acc_2: 0.1733 - dense_3_acc_3: 0.0520 - dense_3_acc_4: 0.8711 - dense_3_acc_5: 0.0885 - dense_3_acc_6: 0.0098 - dense_3_acc_7: 0.8641 - dense_3_acc_8: 0.1172 - dense_3_acc_9: 0.05 - ETA: 18s - loss: 20.4104 - dense_3_loss: 2.7378 - dense_3_acc: 0.2119 - dense_3_acc_1: 0.3881 - dense_3_acc_2: 0.1787 - dense_3_acc_3: 0.0511 - dense_3_acc_4: 0.8738 - dense_3_acc_5: 0.0866 - dense_3_acc_6: 0.0096 - dense_3_acc_7: 0.8643 - dense_3_acc_8: 0.1230 - dense_3_acc_9: 0.05 - ETA: 17s - loss: 20.3553 - dense_3_loss: 2.7354 - dense_3_acc: 0.2208 - dense_3_acc_1: 0.3946 - dense_3_acc_2: 0.1844 - dense_3_acc_3: 0.0506 - dense_3_acc_4: 0.8765 - dense_3_acc_5: 0.0848 - dense_3_acc_6: 0.0094 - dense_3_acc_7: 0.8660 - dense_3_acc_8: 0.1294 - dense_3_acc_9: 0.05 - ETA: 17s - loss: 20.3014 - dense_3_loss: 2.7301 - dense_3_acc: 0.2290 - dense_3_acc_1: 0.4010 - dense_3_acc_2: 0.1886 - dense_3_acc_3: 0.0500 - dense_3_acc_4: 0.8790 - dense_3_acc_5: 0.0831 - dense_3_acc_6: 0.0092 - dense_3_acc_7: 0.8661 - dense_3_acc_8: 0.1341 - dense_3_acc_9: 0.05 - ETA: 16s - loss: 20.2505 - dense_3_loss: 2.7268 - dense_3_acc: 0.2370 - dense_3_acc_1: 0.4108 - dense_3_acc_2: 0.1914 - dense_3_acc_3: 0.0490 - dense_3_acc_4: 0.8814 - dense_3_acc_5: 0.0820 - dense_3_acc_6: 0.0094 - dense_3_acc_7: 0.8574 - dense_3_acc_8: 0.1416 - dense_3_acc_9: 0.05 - ETA: 15s - loss: 20.2007 - dense_3_loss: 2.7234 - dense_3_acc: 0.2429 - dense_3_acc_1: 0.4163 - dense_3_acc_2: 0.1945 - dense_3_acc_3: 0.0494 - dense_3_acc_4: 0.8837 - dense_3_acc_5: 0.0804 - dense_3_acc_6: 0.0092 - dense_3_acc_7: 0.8578 - dense_3_acc_8: 0.1445 - dense_3_acc_9: 0.05 - ETA: 15s - loss: 20.1506 - dense_3_loss: 2.7225 - dense_3_acc: 0.2512 - dense_3_acc_1: 0.4227 - dense_3_acc_2: 0.1965 - dense_3_acc_3: 0.0513 - dense_3_acc_4: 0.8860 - dense_3_acc_5: 0.0790 - dense_3_acc_6: 0.0094 - dense_3_acc_7: 0.8537 - dense_3_acc_8: 0.1498 - dense_3_acc_9: 0.06 - ETA: 14s - loss: 20.0962 - dense_3_loss: 2.7212 - dense_3_acc: 0.2587 - dense_3_acc_1: 0.4275 - dense_3_acc_2: 0.1991 - dense_3_acc_3: 0.0509 - dense_3_acc_4: 0.8881 - dense_3_acc_5: 0.0775 - dense_3_acc_6: 0.0092 - dense_3_acc_7: 0.8540 - dense_3_acc_8: 0.1528 - dense_3_acc_9: 0.06 - ETA: 14s - loss: 20.0479 - dense_3_loss: 2.7174 - dense_3_acc: 0.2639 - dense_3_acc_1: 0.4348 - dense_3_acc_2: 0.2011 - dense_3_acc_3: 0.0500 - dense_3_acc_4: 0.8902 - dense_3_acc_5: 0.0761 - dense_3_acc_6: 0.0091 - dense_3_acc_7: 0.8557 - dense_3_acc_8: 0.1567 - dense_3_acc_9: 0.06 - ETA: 13s - loss: 19.9958 - dense_3_loss: 2.7161 - dense_3_acc: 0.2691 - dense_3_acc_1: 0.4436 - dense_3_acc_2: 0.2053 - dense_3_acc_3: 0.0495 - dense_3_acc_4: 0.8922 - dense_3_acc_5: 0.0747 - dense_3_acc_6: 0.0089 - dense_3_acc_7: 0.8556 - dense_3_acc_8: 0.1613 - dense_3_acc_9: 0.06 - ETA: 13s - loss: 19.9468 - dense_3_loss: 2.7124 - dense_3_acc: 0.2745 - dense_3_acc_1: 0.4498 - dense_3_acc_2: 0.2086 - dense_3_acc_3: 0.0505 - dense_3_acc_4: 0.8941 - dense_3_acc_5: 0.0734 - dense_3_acc_6: 0.0087 - dense_3_acc_7: 0.8552 - dense_3_acc_8: 0.1655 - dense_3_acc_9: 0.06 - ETA: 12s - loss: 19.8962 - dense_3_loss: 2.7084 - dense_3_acc: 0.2793 - dense_3_acc_1: 0.4546 - dense_3_acc_2: 0.2130 - dense_3_acc_3: 0.0525 - dense_3_acc_4: 0.8960 - dense_3_acc_5: 0.0721 - dense_3_acc_6: 0.0086 - dense_3_acc_7: 0.8551 - dense_3_acc_8: 0.1670 - dense_3_acc_9: 0.06 - ETA: 12s - loss: 19.8467 - dense_3_loss: 2.7051 - dense_3_acc: 0.2855 - dense_3_acc_1: 0.4591 - dense_3_acc_2: 0.2164 - dense_3_acc_3: 0.0540 - dense_3_acc_4: 0.8978 - dense_3_acc_5: 0.0709 - dense_3_acc_6: 0.0084 - dense_3_acc_7: 0.8574 - dense_3_acc_8: 0.1688 - dense_3_acc_9: 0.0695"
     ]
    },
    {
     "name": "stdout",
     "output_type": "stream",
     "text": [
      " 8700/10000 [=========================>....] - ETA: 12s - loss: 19.7947 - dense_3_loss: 2.7027 - dense_3_acc: 0.2902 - dense_3_acc_1: 0.4644 - dense_3_acc_2: 0.2195 - dense_3_acc_3: 0.0554 - dense_3_acc_4: 0.8995 - dense_3_acc_5: 0.0697 - dense_3_acc_6: 0.0083 - dense_3_acc_7: 0.8597 - dense_3_acc_8: 0.1729 - dense_3_acc_9: 0.06 - ETA: 11s - loss: 19.7452 - dense_3_loss: 2.7016 - dense_3_acc: 0.2958 - dense_3_acc_1: 0.4717 - dense_3_acc_2: 0.2207 - dense_3_acc_3: 0.0558 - dense_3_acc_4: 0.9012 - dense_3_acc_5: 0.0685 - dense_3_acc_6: 0.0082 - dense_3_acc_7: 0.8618 - dense_3_acc_8: 0.1748 - dense_3_acc_9: 0.06 - ETA: 11s - loss: 19.6966 - dense_3_loss: 2.6999 - dense_3_acc: 0.3023 - dense_3_acc_1: 0.4782 - dense_3_acc_2: 0.2221 - dense_3_acc_3: 0.0561 - dense_3_acc_4: 0.9023 - dense_3_acc_5: 0.0684 - dense_3_acc_6: 0.0080 - dense_3_acc_7: 0.8634 - dense_3_acc_8: 0.1734 - dense_3_acc_9: 0.07 - ETA: 10s - loss: 19.6434 - dense_3_loss: 2.6962 - dense_3_acc: 0.3087 - dense_3_acc_1: 0.4840 - dense_3_acc_2: 0.2227 - dense_3_acc_3: 0.0573 - dense_3_acc_4: 0.9037 - dense_3_acc_5: 0.0679 - dense_3_acc_6: 0.0081 - dense_3_acc_7: 0.8635 - dense_3_acc_8: 0.1776 - dense_3_acc_9: 0.07 - ETA: 10s - loss: 19.5910 - dense_3_loss: 2.6924 - dense_3_acc: 0.3133 - dense_3_acc_1: 0.4890 - dense_3_acc_2: 0.2252 - dense_3_acc_3: 0.0578 - dense_3_acc_4: 0.9052 - dense_3_acc_5: 0.0687 - dense_3_acc_6: 0.0083 - dense_3_acc_7: 0.8614 - dense_3_acc_8: 0.1806 - dense_3_acc_9: 0.07 - ETA: 10s - loss: 19.5394 - dense_3_loss: 2.6881 - dense_3_acc: 0.3177 - dense_3_acc_1: 0.4945 - dense_3_acc_2: 0.2277 - dense_3_acc_3: 0.0573 - dense_3_acc_4: 0.9067 - dense_3_acc_5: 0.0703 - dense_3_acc_6: 0.0081 - dense_3_acc_7: 0.8609 - dense_3_acc_8: 0.1845 - dense_3_acc_9: 0.07 - ETA: 9s - loss: 19.4900 - dense_3_loss: 2.6857 - dense_3_acc: 0.3242 - dense_3_acc_1: 0.5003 - dense_3_acc_2: 0.2289 - dense_3_acc_3: 0.0578 - dense_3_acc_4: 0.9082 - dense_3_acc_5: 0.0737 - dense_3_acc_6: 0.0080 - dense_3_acc_7: 0.8622 - dense_3_acc_8: 0.1862 - dense_3_acc_9: 0.0743 - ETA: 9s - loss: 19.4340 - dense_3_loss: 2.6829 - dense_3_acc: 0.3294 - dense_3_acc_1: 0.5064 - dense_3_acc_2: 0.2314 - dense_3_acc_3: 0.0580 - dense_3_acc_4: 0.9095 - dense_3_acc_5: 0.0742 - dense_3_acc_6: 0.0079 - dense_3_acc_7: 0.8635 - dense_3_acc_8: 0.1885 - dense_3_acc_9: 0.075 - ETA: 9s - loss: 19.3748 - dense_3_loss: 2.6767 - dense_3_acc: 0.3352 - dense_3_acc_1: 0.5127 - dense_3_acc_2: 0.2342 - dense_3_acc_3: 0.0579 - dense_3_acc_4: 0.9109 - dense_3_acc_5: 0.0734 - dense_3_acc_6: 0.0079 - dense_3_acc_7: 0.8649 - dense_3_acc_8: 0.1909 - dense_3_acc_9: 0.076 - ETA: 8s - loss: 19.3218 - dense_3_loss: 2.6737 - dense_3_acc: 0.3396 - dense_3_acc_1: 0.5171 - dense_3_acc_2: 0.2369 - dense_3_acc_3: 0.0584 - dense_3_acc_4: 0.9122 - dense_3_acc_5: 0.0728 - dense_3_acc_6: 0.0078 - dense_3_acc_7: 0.8669 - dense_3_acc_8: 0.1912 - dense_3_acc_9: 0.077 - ETA: 8s - loss: 19.2621 - dense_3_loss: 2.6697 - dense_3_acc: 0.3439 - dense_3_acc_1: 0.5223 - dense_3_acc_2: 0.2393 - dense_3_acc_3: 0.0587 - dense_3_acc_4: 0.9135 - dense_3_acc_5: 0.0762 - dense_3_acc_6: 0.0090 - dense_3_acc_7: 0.8687 - dense_3_acc_8: 0.1945 - dense_3_acc_9: 0.078 - ETA: 7s - loss: 19.2096 - dense_3_loss: 2.6693 - dense_3_acc: 0.3476 - dense_3_acc_1: 0.5283 - dense_3_acc_2: 0.2403 - dense_3_acc_3: 0.0591 - dense_3_acc_4: 0.9147 - dense_3_acc_5: 0.0853 - dense_3_acc_6: 0.0099 - dense_3_acc_7: 0.8706 - dense_3_acc_8: 0.1956 - dense_3_acc_9: 0.078 - ETA: 7s - loss: 19.1541 - dense_3_loss: 2.6671 - dense_3_acc: 0.3523 - dense_3_acc_1: 0.5337 - dense_3_acc_2: 0.2424 - dense_3_acc_3: 0.0590 - dense_3_acc_4: 0.9159 - dense_3_acc_5: 0.0946 - dense_3_acc_6: 0.0107 - dense_3_acc_7: 0.8718 - dense_3_acc_8: 0.1987 - dense_3_acc_9: 0.079 - ETA: 7s - loss: 19.0911 - dense_3_loss: 2.6633 - dense_3_acc: 0.3572 - dense_3_acc_1: 0.5392 - dense_3_acc_2: 0.2422 - dense_3_acc_3: 0.0597 - dense_3_acc_4: 0.9171 - dense_3_acc_5: 0.1025 - dense_3_acc_6: 0.0119 - dense_3_acc_7: 0.8735 - dense_3_acc_8: 0.2022 - dense_3_acc_9: 0.080 - ETA: 7s - loss: 19.0281 - dense_3_loss: 2.6620 - dense_3_acc: 0.3614 - dense_3_acc_1: 0.5437 - dense_3_acc_2: 0.2448 - dense_3_acc_3: 0.0611 - dense_3_acc_4: 0.9182 - dense_3_acc_5: 0.1093 - dense_3_acc_6: 0.0133 - dense_3_acc_7: 0.8752 - dense_3_acc_8: 0.2036 - dense_3_acc_9: 0.080 - ETA: 6s - loss: 18.9679 - dense_3_loss: 2.6580 - dense_3_acc: 0.3645 - dense_3_acc_1: 0.5480 - dense_3_acc_2: 0.2466 - dense_3_acc_3: 0.0609 - dense_3_acc_4: 0.9193 - dense_3_acc_5: 0.1178 - dense_3_acc_6: 0.0131 - dense_3_acc_7: 0.8769 - dense_3_acc_8: 0.2066 - dense_3_acc_9: 0.081 - ETA: 6s - loss: 18.9020 - dense_3_loss: 2.6532 - dense_3_acc: 0.3691 - dense_3_acc_1: 0.5527 - dense_3_acc_2: 0.2485 - dense_3_acc_3: 0.0612 - dense_3_acc_4: 0.9204 - dense_3_acc_5: 0.1275 - dense_3_acc_6: 0.0137 - dense_3_acc_7: 0.8785 - dense_3_acc_8: 0.2083 - dense_3_acc_9: 0.082 - ETA: 6s - loss: 18.8364 - dense_3_loss: 2.6493 - dense_3_acc: 0.3734 - dense_3_acc_1: 0.5571 - dense_3_acc_2: 0.2493 - dense_3_acc_3: 0.0628 - dense_3_acc_4: 0.9214 - dense_3_acc_5: 0.1366 - dense_3_acc_6: 0.0147 - dense_3_acc_7: 0.8801 - dense_3_acc_8: 0.2100 - dense_3_acc_9: 0.084 - ETA: 5s - loss: 18.7674 - dense_3_loss: 2.6454 - dense_3_acc: 0.3773 - dense_3_acc_1: 0.5618 - dense_3_acc_2: 0.2514 - dense_3_acc_3: 0.0622 - dense_3_acc_4: 0.9225 - dense_3_acc_5: 0.1444 - dense_3_acc_6: 0.0151 - dense_3_acc_7: 0.8817 - dense_3_acc_8: 0.2135 - dense_3_acc_9: 0.084 - ETA: 5s - loss: 18.6979 - dense_3_loss: 2.6410 - dense_3_acc: 0.3795 - dense_3_acc_1: 0.5650 - dense_3_acc_2: 0.2524 - dense_3_acc_3: 0.0627 - dense_3_acc_4: 0.9235 - dense_3_acc_5: 0.1536 - dense_3_acc_6: 0.0154 - dense_3_acc_7: 0.8832 - dense_3_acc_8: 0.2163 - dense_3_acc_9: 0.085 - ETA: 5s - loss: 18.6245 - dense_3_loss: 2.6359 - dense_3_acc: 0.3823 - dense_3_acc_1: 0.5696 - dense_3_acc_2: 0.2537 - dense_3_acc_3: 0.0627 - dense_3_acc_4: 0.9244 - dense_3_acc_5: 0.1620 - dense_3_acc_6: 0.0162 - dense_3_acc_7: 0.8847 - dense_3_acc_8: 0.2185 - dense_3_acc_9: 0.087 - ETA: 4s - loss: 18.5529 - dense_3_loss: 2.6315 - dense_3_acc: 0.3863 - dense_3_acc_1: 0.5743 - dense_3_acc_2: 0.2549 - dense_3_acc_3: 0.0630 - dense_3_acc_4: 0.9254 - dense_3_acc_5: 0.1712 - dense_3_acc_6: 0.0169 - dense_3_acc_7: 0.8861 - dense_3_acc_8: 0.2205 - dense_3_acc_9: 0.087 - ETA: 4s - loss: 18.4769 - dense_3_loss: 2.6272 - dense_3_acc: 0.3915 - dense_3_acc_1: 0.5780 - dense_3_acc_2: 0.2563 - dense_3_acc_3: 0.0642 - dense_3_acc_4: 0.9263 - dense_3_acc_5: 0.1790 - dense_3_acc_6: 0.0179 - dense_3_acc_7: 0.8875 - dense_3_acc_8: 0.2228 - dense_3_acc_9: 0.088 - ETA: 4s - loss: 18.4021 - dense_3_loss: 2.6239 - dense_3_acc: 0.3949 - dense_3_acc_1: 0.5826 - dense_3_acc_2: 0.2588 - dense_3_acc_3: 0.0650 - dense_3_acc_4: 0.9272 - dense_3_acc_5: 0.1876 - dense_3_acc_6: 0.0188 - dense_3_acc_7: 0.8889 - dense_3_acc_8: 0.2244 - dense_3_acc_9: 0.089 - ETA: 4s - loss: 18.3268 - dense_3_loss: 2.6201 - dense_3_acc: 0.3993 - dense_3_acc_1: 0.5860 - dense_3_acc_2: 0.2613 - dense_3_acc_3: 0.0654 - dense_3_acc_4: 0.9281 - dense_3_acc_5: 0.1957 - dense_3_acc_6: 0.0198 - dense_3_acc_7: 0.8902 - dense_3_acc_8: 0.2270 - dense_3_acc_9: 0.090 - ETA: 3s - loss: 18.2501 - dense_3_loss: 2.6161 - dense_3_acc: 0.4039 - dense_3_acc_1: 0.5898 - dense_3_acc_2: 0.2629 - dense_3_acc_3: 0.0651 - dense_3_acc_4: 0.9289 - dense_3_acc_5: 0.2036 - dense_3_acc_6: 0.0210 - dense_3_acc_7: 0.8915 - dense_3_acc_8: 0.2293 - dense_3_acc_9: 0.091 - ETA: 3s - loss: 18.1752 - dense_3_loss: 2.6123 - dense_3_acc: 0.4101 - dense_3_acc_1: 0.5941 - dense_3_acc_2: 0.2644 - dense_3_acc_3: 0.0649 - dense_3_acc_4: 0.9298 - dense_3_acc_5: 0.2118 - dense_3_acc_6: 0.0212 - dense_3_acc_7: 0.8928 - dense_3_acc_8: 0.2312 - dense_3_acc_9: 0.091 - ETA: 3s - loss: 18.1011 - dense_3_loss: 2.6095 - dense_3_acc: 0.4159 - dense_3_acc_1: 0.5981 - dense_3_acc_2: 0.2651 - dense_3_acc_3: 0.0656 - dense_3_acc_4: 0.9306 - dense_3_acc_5: 0.2186 - dense_3_acc_6: 0.0222 - dense_3_acc_7: 0.8941 - dense_3_acc_8: 0.2337 - dense_3_acc_9: 0.092 - ETA: 3s - loss: 18.0261 - dense_3_loss: 2.6061 - dense_3_acc: 0.4213 - dense_3_acc_1: 0.6024 - dense_3_acc_2: 0.2672 - dense_3_acc_3: 0.0655 - dense_3_acc_4: 0.9314 - dense_3_acc_5: 0.2263 - dense_3_acc_6: 0.0231 - dense_3_acc_7: 0.8953 - dense_3_acc_8: 0.2355 - dense_3_acc_9: 0.0924"
     ]
    },
    {
     "name": "stdout",
     "output_type": "stream",
     "text": [
      "10000/10000 [==============================] - ETA: 2s - loss: 17.9533 - dense_3_loss: 2.6024 - dense_3_acc: 0.4249 - dense_3_acc_1: 0.6058 - dense_3_acc_2: 0.2695 - dense_3_acc_3: 0.0661 - dense_3_acc_4: 0.9322 - dense_3_acc_5: 0.2337 - dense_3_acc_6: 0.0241 - dense_3_acc_7: 0.8965 - dense_3_acc_8: 0.2366 - dense_3_acc_9: 0.092 - ETA: 2s - loss: 17.8779 - dense_3_loss: 2.5988 - dense_3_acc: 0.4297 - dense_3_acc_1: 0.6094 - dense_3_acc_2: 0.2724 - dense_3_acc_3: 0.0667 - dense_3_acc_4: 0.9329 - dense_3_acc_5: 0.2408 - dense_3_acc_6: 0.0255 - dense_3_acc_7: 0.8976 - dense_3_acc_8: 0.2383 - dense_3_acc_9: 0.093 - ETA: 2s - loss: 17.8070 - dense_3_loss: 2.5949 - dense_3_acc: 0.4348 - dense_3_acc_1: 0.6127 - dense_3_acc_2: 0.2736 - dense_3_acc_3: 0.0664 - dense_3_acc_4: 0.9337 - dense_3_acc_5: 0.2473 - dense_3_acc_6: 0.0258 - dense_3_acc_7: 0.8988 - dense_3_acc_8: 0.2392 - dense_3_acc_9: 0.094 - ETA: 2s - loss: 17.7373 - dense_3_loss: 2.5913 - dense_3_acc: 0.4397 - dense_3_acc_1: 0.6159 - dense_3_acc_2: 0.2743 - dense_3_acc_3: 0.0670 - dense_3_acc_4: 0.9344 - dense_3_acc_5: 0.2537 - dense_3_acc_6: 0.0270 - dense_3_acc_7: 0.8999 - dense_3_acc_8: 0.2400 - dense_3_acc_9: 0.094 - ETA: 1s - loss: 17.6647 - dense_3_loss: 2.5879 - dense_3_acc: 0.4451 - dense_3_acc_1: 0.6193 - dense_3_acc_2: 0.2754 - dense_3_acc_3: 0.0678 - dense_3_acc_4: 0.9351 - dense_3_acc_5: 0.2598 - dense_3_acc_6: 0.0280 - dense_3_acc_7: 0.9010 - dense_3_acc_8: 0.2423 - dense_3_acc_9: 0.095 - ETA: 1s - loss: 17.5934 - dense_3_loss: 2.5843 - dense_3_acc: 0.4497 - dense_3_acc_1: 0.6227 - dense_3_acc_2: 0.2774 - dense_3_acc_3: 0.0683 - dense_3_acc_4: 0.9358 - dense_3_acc_5: 0.2660 - dense_3_acc_6: 0.0295 - dense_3_acc_7: 0.9020 - dense_3_acc_8: 0.2446 - dense_3_acc_9: 0.096 - ETA: 1s - loss: 17.5215 - dense_3_loss: 2.5816 - dense_3_acc: 0.4543 - dense_3_acc_1: 0.6261 - dense_3_acc_2: 0.2793 - dense_3_acc_3: 0.0689 - dense_3_acc_4: 0.9365 - dense_3_acc_5: 0.2722 - dense_3_acc_6: 0.0313 - dense_3_acc_7: 0.9031 - dense_3_acc_8: 0.2474 - dense_3_acc_9: 0.096 - ETA: 1s - loss: 17.4496 - dense_3_loss: 2.5786 - dense_3_acc: 0.4591 - dense_3_acc_1: 0.6293 - dense_3_acc_2: 0.2805 - dense_3_acc_3: 0.0701 - dense_3_acc_4: 0.9372 - dense_3_acc_5: 0.2780 - dense_3_acc_6: 0.0331 - dense_3_acc_7: 0.9041 - dense_3_acc_8: 0.2503 - dense_3_acc_9: 0.097 - ETA: 0s - loss: 17.3800 - dense_3_loss: 2.5754 - dense_3_acc: 0.4638 - dense_3_acc_1: 0.6325 - dense_3_acc_2: 0.2832 - dense_3_acc_3: 0.0706 - dense_3_acc_4: 0.9378 - dense_3_acc_5: 0.2842 - dense_3_acc_6: 0.0340 - dense_3_acc_7: 0.9051 - dense_3_acc_8: 0.2531 - dense_3_acc_9: 0.097 - ETA: 0s - loss: 17.3118 - dense_3_loss: 2.5726 - dense_3_acc: 0.4687 - dense_3_acc_1: 0.6357 - dense_3_acc_2: 0.2849 - dense_3_acc_3: 0.0715 - dense_3_acc_4: 0.9385 - dense_3_acc_5: 0.2899 - dense_3_acc_6: 0.0362 - dense_3_acc_7: 0.9061 - dense_3_acc_8: 0.2549 - dense_3_acc_9: 0.098 - ETA: 0s - loss: 17.2428 - dense_3_loss: 2.5697 - dense_3_acc: 0.4730 - dense_3_acc_1: 0.6389 - dense_3_acc_2: 0.2873 - dense_3_acc_3: 0.0729 - dense_3_acc_4: 0.9391 - dense_3_acc_5: 0.2956 - dense_3_acc_6: 0.0369 - dense_3_acc_7: 0.9070 - dense_3_acc_8: 0.2570 - dense_3_acc_9: 0.098 - ETA: 0s - loss: 17.1743 - dense_3_loss: 2.5667 - dense_3_acc: 0.4773 - dense_3_acc_1: 0.6423 - dense_3_acc_2: 0.2887 - dense_3_acc_3: 0.0732 - dense_3_acc_4: 0.9397 - dense_3_acc_5: 0.3011 - dense_3_acc_6: 0.0386 - dense_3_acc_7: 0.9080 - dense_3_acc_8: 0.2595 - dense_3_acc_9: 0.098 - 22s 2ms/step - loss: 17.1080 - dense_3_loss: 2.5635 - dense_3_acc: 0.4813 - dense_3_acc_1: 0.6448 - dense_3_acc_2: 0.2901 - dense_3_acc_3: 0.0741 - dense_3_acc_4: 0.9403 - dense_3_acc_5: 0.3065 - dense_3_acc_6: 0.0402 - dense_3_acc_7: 0.9089 - dense_3_acc_8: 0.2609 - dense_3_acc_9: 0.0993\n"
     ]
    },
    {
     "data": {
      "text/plain": [
       "<keras.callbacks.History at 0x185e6127860>"
      ]
     },
     "execution_count": 16,
     "metadata": {},
     "output_type": "execute_result"
    }
   ],
   "source": [
    "model.fit([Xoh, s0, c0], outputs, epochs=1, batch_size=100)"
   ]
  },
  {
   "cell_type": "markdown",
   "metadata": {},
   "source": [
    "While training you can see the loss as well as the accuracy on each of the 10 positions of the output. The table below gives you an example of what the accuracies could be if the batch had 2 examples: \n",
    "\n",
    "<img src=\"images/table.png\" style=\"width:700;height:200px;\"> <br>\n",
    "<caption><center>Thus, `dense_2_acc_8: 0.89` means that you are predicting the 7th character of the output correctly 89% of the time in the current batch of data. </center></caption>\n",
    "\n",
    "\n",
    "We have run this model for longer, and saved the weights. Run the next cell to load our weights. (By training a model for several minutes, you should be able to obtain a model of similar accuracy, but loading our model will save you time.) "
   ]
  },
  {
   "cell_type": "code",
   "execution_count": 17,
   "metadata": {},
   "outputs": [],
   "source": [
    "model.load_weights('models/model.h5')"
   ]
  },
  {
   "cell_type": "markdown",
   "metadata": {},
   "source": [
    "You can now see the results on new examples."
   ]
  },
  {
   "cell_type": "code",
   "execution_count": 19,
   "metadata": {
    "scrolled": false
   },
   "outputs": [
    {
     "name": "stdout",
     "output_type": "stream",
     "text": [
      "source: 3 May 1979\n",
      "output: 1979-05-03\n",
      "source: 5 April 09\n",
      "output: 2009-05-05\n",
      "source: 21th of August 2016\n",
      "output: 2016-08-21\n",
      "source: Tue 10 Jul 2007\n",
      "output: 2007-07-10\n",
      "source: Saturday May 9 2018\n",
      "output: 2018-05-09\n",
      "source: March 3 2001\n",
      "output: 2001-03-03\n",
      "source: March 3rd 2001\n",
      "output: 2001-03-03\n",
      "source: 1 March 2001\n",
      "output: 2001-03-01\n"
     ]
    }
   ],
   "source": [
    "EXAMPLES = ['3 May 1979', '5 April 09', '21th of August 2016', 'Tue 10 Jul 2007', 'Saturday May 9 2018', 'March 3 2001', 'March 3rd 2001', '1 March 2001']\n",
    "for example in EXAMPLES:\n",
    "    \n",
    "    source = string_to_int(example, Tx, human_vocab)\n",
    "    source = np.array(list(map(lambda x: to_categorical(x, num_classes=len(human_vocab)), source))).swapaxes(0,1)\n",
    "    \n",
    "    source = source.transpose()#交换两个轴\n",
    "    source = np.expand_dims(source, axis=0)#增加一维轴\n",
    "    \n",
    "    prediction = model.predict([source, s0, c0])\n",
    "    prediction = np.argmax(prediction, axis = -1)\n",
    "    output = [inv_machine_vocab[int(i)] for i in prediction]\n",
    "    \n",
    "    print(\"source:\", example)\n",
    "    print(\"output:\", ''.join(output))"
   ]
  },
  {
   "cell_type": "markdown",
   "metadata": {},
   "source": [
    "You can also change these examples to test with your own examples. The next part will give you a better sense on what the attention mechanism is doing--i.e., what part of the input the network is paying attention to when generating a particular output character. "
   ]
  },
  {
   "cell_type": "markdown",
   "metadata": {},
   "source": [
    "## 3 - Visualizing Attention (Optional / Ungraded)\n",
    "\n",
    "Since the problem has a fixed output length of 10, it is also possible to carry out this task using 10 different softmax units to generate the 10 characters of the output. But one advantage of the attention model is that each part of the output (say the month) knows it needs to depend only on a small part of the input (the characters in the input giving the month). We can  visualize what part of the output is looking at what part of the input.\n",
    "\n",
    "Consider the task of translating \"Saturday 9 May 2018\" to \"2018-05-09\". If we visualize the computed $\\alpha^{\\langle t, t' \\rangle}$ we get this: \n",
    "\n",
    "<img src=\"images/date_attention.png\" style=\"width:600;height:300px;\"> <br>\n",
    "<caption><center> **Figure 8**: Full Attention Map</center></caption>\n",
    "\n",
    "Notice how the output ignores the \"Saturday\" portion of the input. None of the output timesteps are paying much attention to that portion of the input. We see also that 9 has been translated as 09 and May has been correctly translated into 05, with the output paying attention to the parts of the input it needs to to make the translation. The year mostly requires it to pay attention to the input's \"18\" in order to generate \"2018.\" \n",
    "\n"
   ]
  },
  {
   "cell_type": "markdown",
   "metadata": {},
   "source": [
    "### 3.1 - Getting the activations from the network\n",
    "\n",
    "Lets now visualize the attention values in your network. We'll propagate an example through the network, then visualize the values of $\\alpha^{\\langle t, t' \\rangle}$. \n",
    "\n",
    "To figure out where the attention values are located, let's start by printing a summary of the model ."
   ]
  },
  {
   "cell_type": "code",
   "execution_count": 20,
   "metadata": {},
   "outputs": [
    {
     "name": "stdout",
     "output_type": "stream",
     "text": [
      "__________________________________________________________________________________________________\n",
      "Layer (type)                    Output Shape         Param #     Connected to                     \n",
      "==================================================================================================\n",
      "input_1 (InputLayer)            (None, 30, 37)       0                                            \n",
      "__________________________________________________________________________________________________\n",
      "s0 (InputLayer)                 (None, 64)           0                                            \n",
      "__________________________________________________________________________________________________\n",
      "bidirectional_1 (Bidirectional) (None, 30, 64)       17920       input_1[0][0]                    \n",
      "__________________________________________________________________________________________________\n",
      "repeat_vector_1 (RepeatVector)  (None, 30, 64)       0           s0[0][0]                         \n",
      "                                                                 lstm_1[0][0]                     \n",
      "                                                                 lstm_1[1][0]                     \n",
      "                                                                 lstm_1[2][0]                     \n",
      "                                                                 lstm_1[3][0]                     \n",
      "                                                                 lstm_1[4][0]                     \n",
      "                                                                 lstm_1[5][0]                     \n",
      "                                                                 lstm_1[6][0]                     \n",
      "                                                                 lstm_1[7][0]                     \n",
      "                                                                 lstm_1[8][0]                     \n",
      "__________________________________________________________________________________________________\n",
      "concatenate_1 (Concatenate)     (None, 30, 128)      0           bidirectional_1[0][0]            \n",
      "                                                                 repeat_vector_1[0][0]            \n",
      "                                                                 bidirectional_1[0][0]            \n",
      "                                                                 repeat_vector_1[1][0]            \n",
      "                                                                 bidirectional_1[0][0]            \n",
      "                                                                 repeat_vector_1[2][0]            \n",
      "                                                                 bidirectional_1[0][0]            \n",
      "                                                                 repeat_vector_1[3][0]            \n",
      "                                                                 bidirectional_1[0][0]            \n",
      "                                                                 repeat_vector_1[4][0]            \n",
      "                                                                 bidirectional_1[0][0]            \n",
      "                                                                 repeat_vector_1[5][0]            \n",
      "                                                                 bidirectional_1[0][0]            \n",
      "                                                                 repeat_vector_1[6][0]            \n",
      "                                                                 bidirectional_1[0][0]            \n",
      "                                                                 repeat_vector_1[7][0]            \n",
      "                                                                 bidirectional_1[0][0]            \n",
      "                                                                 repeat_vector_1[8][0]            \n",
      "                                                                 bidirectional_1[0][0]            \n",
      "                                                                 repeat_vector_1[9][0]            \n",
      "__________________________________________________________________________________________________\n",
      "dense_1 (Dense)                 (None, 30, 10)       1290        concatenate_1[0][0]              \n",
      "                                                                 concatenate_1[1][0]              \n",
      "                                                                 concatenate_1[2][0]              \n",
      "                                                                 concatenate_1[3][0]              \n",
      "                                                                 concatenate_1[4][0]              \n",
      "                                                                 concatenate_1[5][0]              \n",
      "                                                                 concatenate_1[6][0]              \n",
      "                                                                 concatenate_1[7][0]              \n",
      "                                                                 concatenate_1[8][0]              \n",
      "                                                                 concatenate_1[9][0]              \n",
      "__________________________________________________________________________________________________\n",
      "dense_2 (Dense)                 (None, 30, 1)        11          dense_1[0][0]                    \n",
      "                                                                 dense_1[1][0]                    \n",
      "                                                                 dense_1[2][0]                    \n",
      "                                                                 dense_1[3][0]                    \n",
      "                                                                 dense_1[4][0]                    \n",
      "                                                                 dense_1[5][0]                    \n",
      "                                                                 dense_1[6][0]                    \n",
      "                                                                 dense_1[7][0]                    \n",
      "                                                                 dense_1[8][0]                    \n",
      "                                                                 dense_1[9][0]                    \n",
      "__________________________________________________________________________________________________\n",
      "attention_weights (Activation)  (None, 30, 1)        0           dense_2[0][0]                    \n",
      "                                                                 dense_2[1][0]                    \n",
      "                                                                 dense_2[2][0]                    \n",
      "                                                                 dense_2[3][0]                    \n",
      "                                                                 dense_2[4][0]                    \n",
      "                                                                 dense_2[5][0]                    \n",
      "                                                                 dense_2[6][0]                    \n",
      "                                                                 dense_2[7][0]                    \n",
      "                                                                 dense_2[8][0]                    \n",
      "                                                                 dense_2[9][0]                    \n",
      "__________________________________________________________________________________________________\n",
      "dot_1 (Dot)                     (None, 1, 64)        0           attention_weights[0][0]          \n",
      "                                                                 bidirectional_1[0][0]            \n",
      "                                                                 attention_weights[1][0]          \n",
      "                                                                 bidirectional_1[0][0]            \n",
      "                                                                 attention_weights[2][0]          \n",
      "                                                                 bidirectional_1[0][0]            \n",
      "                                                                 attention_weights[3][0]          \n",
      "                                                                 bidirectional_1[0][0]            \n"
     ]
    },
    {
     "name": "stdout",
     "output_type": "stream",
     "text": [
      "                                                                 attention_weights[4][0]          \n",
      "                                                                 bidirectional_1[0][0]            \n",
      "                                                                 attention_weights[5][0]          \n",
      "                                                                 bidirectional_1[0][0]            \n",
      "                                                                 attention_weights[6][0]          \n",
      "                                                                 bidirectional_1[0][0]            \n",
      "                                                                 attention_weights[7][0]          \n",
      "                                                                 bidirectional_1[0][0]            \n",
      "                                                                 attention_weights[8][0]          \n",
      "                                                                 bidirectional_1[0][0]            \n",
      "                                                                 attention_weights[9][0]          \n",
      "                                                                 bidirectional_1[0][0]            \n",
      "__________________________________________________________________________________________________\n",
      "c0 (InputLayer)                 (None, 64)           0                                            \n",
      "__________________________________________________________________________________________________\n",
      "lstm_1 (LSTM)                   [(None, 64), (None,  33024       dot_1[0][0]                      \n",
      "                                                                 s0[0][0]                         \n",
      "                                                                 c0[0][0]                         \n",
      "                                                                 dot_1[1][0]                      \n",
      "                                                                 lstm_1[0][0]                     \n",
      "                                                                 lstm_1[0][2]                     \n",
      "                                                                 dot_1[2][0]                      \n",
      "                                                                 lstm_1[1][0]                     \n",
      "                                                                 lstm_1[1][2]                     \n",
      "                                                                 dot_1[3][0]                      \n",
      "                                                                 lstm_1[2][0]                     \n",
      "                                                                 lstm_1[2][2]                     \n",
      "                                                                 dot_1[4][0]                      \n",
      "                                                                 lstm_1[3][0]                     \n",
      "                                                                 lstm_1[3][2]                     \n",
      "                                                                 dot_1[5][0]                      \n",
      "                                                                 lstm_1[4][0]                     \n",
      "                                                                 lstm_1[4][2]                     \n",
      "                                                                 dot_1[6][0]                      \n",
      "                                                                 lstm_1[5][0]                     \n",
      "                                                                 lstm_1[5][2]                     \n",
      "                                                                 dot_1[7][0]                      \n",
      "                                                                 lstm_1[6][0]                     \n",
      "                                                                 lstm_1[6][2]                     \n",
      "                                                                 dot_1[8][0]                      \n",
      "                                                                 lstm_1[7][0]                     \n",
      "                                                                 lstm_1[7][2]                     \n",
      "                                                                 dot_1[9][0]                      \n",
      "                                                                 lstm_1[8][0]                     \n",
      "                                                                 lstm_1[8][2]                     \n",
      "__________________________________________________________________________________________________\n",
      "dense_3 (Dense)                 (None, 11)           715         lstm_1[0][0]                     \n",
      "                                                                 lstm_1[1][0]                     \n",
      "                                                                 lstm_1[2][0]                     \n",
      "                                                                 lstm_1[3][0]                     \n",
      "                                                                 lstm_1[4][0]                     \n",
      "                                                                 lstm_1[5][0]                     \n",
      "                                                                 lstm_1[6][0]                     \n",
      "                                                                 lstm_1[7][0]                     \n",
      "                                                                 lstm_1[8][0]                     \n",
      "                                                                 lstm_1[9][0]                     \n",
      "==================================================================================================\n",
      "Total params: 52,960\n",
      "Trainable params: 52,960\n",
      "Non-trainable params: 0\n",
      "__________________________________________________________________________________________________\n"
     ]
    }
   ],
   "source": [
    "model.summary()"
   ]
  },
  {
   "cell_type": "markdown",
   "metadata": {},
   "source": [
    "Navigate through the output of `model.summary()` above. You can see that the layer named `attention_weights` outputs the `alphas` of shape (m, 30, 1) before `dot_2` computes the context vector for every time step $t = 0, \\ldots, T_y-1$. Lets get the activations from this layer.\n",
    "\n",
    "The function `attention_map()` pulls out the attention values from your model and plots them."
   ]
  },
  {
   "cell_type": "code",
   "execution_count": 21,
   "metadata": {
    "scrolled": false
   },
   "outputs": [
    {
     "data": {
      "text/plain": [
       "<Figure size 432x288 with 0 Axes>"
      ]
     },
     "metadata": {},
     "output_type": "display_data"
    },
    {
     "data": {
      "image/png": "[encoded data removed]",
      "text/plain": [
       "<Figure size 576x612 with 2 Axes>"
      ]
     },
     "metadata": {
      "needs_background": "light"
     },
     "output_type": "display_data"
    }
   ],
   "source": [
    "attention_map = plot_attention_map(model, human_vocab, inv_machine_vocab, \"Tuesday 09 Oct 1993\", num = 7, n_s = 64)"
   ]
  },
  {
   "cell_type": "markdown",
   "metadata": {},
   "source": [
    "On the generated plot you can observe the values of the attention weights for each character of the predicted output. Examine this plot and check that where the network is paying attention makes sense to you.\n",
    "\n",
    "In the date translation application, you will observe that most of the time attention helps predict the year, and hasn't much impact on predicting the day/month."
   ]
  },
  {
   "cell_type": "markdown",
   "metadata": {},
   "source": [
    "### Congratulations!\n",
    "\n",
    "\n",
    "You have come to the end of this assignment \n",
    "\n",
    "<font color='blue'> **Here's what you should remember from this notebook**:\n",
    "\n",
    "- Machine translation models can be used to map from one sequence to another. They are useful not just for translating human languages (like French->English) but also for tasks like date format translation. \n",
    "- An attention mechanism allows a network to focus on the most relevant parts of the input when producing a specific part of the output. \n",
    "- A network using an attention mechanism can translate from inputs of length $T_x$ to outputs of length $T_y$, where $T_x$ and $T_y$ can be different. \n",
    "- You can visualize attention weights $\\alpha^{\\langle t,t' \\rangle}$ to see what the network is paying attention to while generating each output."
   ]
  },
  {
   "cell_type": "markdown",
   "metadata": {},
   "source": [
    "Congratulations on finishing this assignment! You are now able to implement an attention model and use it to learn complex mappings from one sequence to another. "
   ]
  }
 ],
 "metadata": {
  "coursera": {
   "course_slug": "nlp-sequence-models",
   "graded_item_id": "n16CQ",
   "launcher_item_id": "npjGi"
  },
  "kernelspec": {
   "display_name": "Python 3",
   "language": "python",
   "name": "python3"
  },
  "language_info": {
   "codemirror_mode": {
    "name": "ipython",
    "version": 3
   },
   "file_extension": ".py",
   "mimetype": "text/x-python",
   "name": "python",
   "nbconvert_exporter": "python",
   "pygments_lexer": "ipython3",
   "version": "3.6.8"
  }
 },
 "nbformat": 4,
 "nbformat_minor": 2
}
